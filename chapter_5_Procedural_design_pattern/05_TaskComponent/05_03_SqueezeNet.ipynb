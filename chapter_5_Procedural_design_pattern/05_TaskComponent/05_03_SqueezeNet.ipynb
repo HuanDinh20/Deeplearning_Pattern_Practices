{
 "cells": [
  {
   "cell_type": "markdown",
   "source": [
    "# SqueezeNet\n",
    "In compact models, particularly for mobile devices, GlobalAveraging2D followed by a Dense layer is replaced with a Conv2D using a softmax activation. The number of filters\n",
    "in Conv2D is set to the number of classes, and then followed by GlobalAveraging2D for the flattening into the number of classes. The “SqueezeNet” paper by Forrest\n",
    "Iandola et al. (https://arxiv.org/pdf/1602.07360.pdf) explains the reasoning for replacing the dense layer with a convolution layer: **“Note the lack of fully connected\n",
    "layers in SqueezeNet; this design choice was inspired by the NiN (Lin et al., 2013) architecture.”**\n",
    "\n",
    "<img src=\"img_4.png\" alt=\"SqueezeNet\">"
   ],
   "metadata": {
    "collapsed": false,
    "pycharm": {
     "name": "#%% md\n"
    }
   }
  },
  {
   "cell_type": "markdown",
   "source": [
    "You can see that instead of a dense layer, it uses a 1 × 1 convolution, in which the number of filters corresponds to the number of classes (C). In this way, the 1 × 1 convolution is learning a probability distribution for the classes instead of a projection of the input feature maps. The resulting (C) feature maps are then each reduced into a single real value for the probability distribution and flattened into a 1D output vector. For example, if each feature map outputted by the 1 × 1 convolution is 3 × 3 in size (9 pixels), the pixel with the highest value is chosen as the probability for the corresponding class. The 1D vector is then squashed by a softmax activation so all the probabilities add up to 1."
   ],
   "metadata": {
    "collapsed": false,
    "pycharm": {
     "name": "#%% md\n"
    }
   }
  },
  {
   "cell_type": "code",
   "execution_count": 1,
   "outputs": [],
   "source": [
    "from keras.layers import Conv2D, GlobalAveragePooling2D, Activation\n",
    "def classifier(inputs, n_classes):\n",
    "    \"\"\"\n",
    "\n",
    "    :param inputs:\n",
    "    :param n_classes:\n",
    "    :return: outputs\n",
    "    \"\"\"\n",
    "    encoding = Conv2D(n_classes, (1, 1), strides=1, activation='relu', padding='same')(inputs)\n",
    "    embedding = GlobalAveragePooling2D(encoding)\n",
    "    outputs = Activation(\"softmax\")(embedding)\n",
    "    return  outputs"
   ],
   "metadata": {
    "collapsed": false,
    "pycharm": {
     "name": "#%%\n"
    }
   }
  },
  {
   "cell_type": "code",
   "execution_count": null,
   "outputs": [],
   "source": [],
   "metadata": {
    "collapsed": false,
    "pycharm": {
     "name": "#%%\n"
    }
   }
  }
 ],
 "metadata": {
  "kernelspec": {
   "display_name": "Python 3",
   "language": "python",
   "name": "python3"
  },
  "language_info": {
   "codemirror_mode": {
    "name": "ipython",
    "version": 2
   },
   "file_extension": ".py",
   "mimetype": "text/x-python",
   "name": "python",
   "nbconvert_exporter": "python",
   "pygments_lexer": "ipython2",
   "version": "2.7.6"
  }
 },
 "nbformat": 4,
 "nbformat_minor": 0
}