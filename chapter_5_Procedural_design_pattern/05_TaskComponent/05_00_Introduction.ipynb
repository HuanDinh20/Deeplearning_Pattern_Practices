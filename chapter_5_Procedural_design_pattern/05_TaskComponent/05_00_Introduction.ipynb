{
 "cells": [
  {
   "cell_type": "markdown",
   "source": [
    "# Introduction\n",
    "The task component is where we generally perform task learning. In large conventional CNNs for image classification, this component typically consists of two layers:\n",
    "1. Bottleneck layer—Performs dimensionality reduction of final feature maps into\n",
    "latent space (*The output from the learner component is referred to as the latent space.*)\n",
    "2. Classifier layer—Performs the task the model is learning\n",
    "\n",
    "\n",
    "The output from the learner component is the final reduced size of the feature maps (for example, 4 × 4 pixels). The bottleneck layer does the final dimensionality\n",
    "reduction of the final feature maps, which is then inputted to the classifier layer for classification.  For the remainder of this section, we will describe the task component in the context of an image classifier; we refer to this as the classification component\n"
   ],
   "metadata": {
    "collapsed": false,
    "pycharm": {
     "name": "#%% md\n"
    }
   }
  },
  {
   "cell_type": "code",
   "execution_count": null,
   "outputs": [],
   "source": [],
   "metadata": {
    "collapsed": false,
    "pycharm": {
     "name": "#%%\n"
    }
   }
  }
 ],
 "metadata": {
  "kernelspec": {
   "display_name": "Python 3",
   "language": "python",
   "name": "python3"
  },
  "language_info": {
   "codemirror_mode": {
    "name": "ipython",
    "version": 2
   },
   "file_extension": ".py",
   "mimetype": "text/x-python",
   "name": "python",
   "nbconvert_exporter": "python",
   "pygments_lexer": "ipython2",
   "version": "2.7.6"
  }
 },
 "nbformat": 4,
 "nbformat_minor": 0
}