{
 "cells": [
  {
   "cell_type": "markdown",
   "source": [
    "# ResNet\n",
    "For a ResNet50, the number of feature maps is 2048. The first layer in the classifier component is both flattening the feature maps into a 1D vector and reducing the size,\n",
    "using GlobalAveragePooling2D, for example. This flattening/reduction layer is also referred to as the bottleneck layer, as stated previously. Following the bottleneck layer\n",
    "is a Dense layer that does the classification.\n",
    "\n",
    " Figure 5.16 depicts the ResNet50 classifier. The input to the classifier component is the final feature maps from the learner component (latent space), which is then\n",
    "passed through GlobalAveragePooling2D, which reduces the size of each feature map to a single pixel and flattens it into a 1D vector (bottleneck). The output from this\n",
    "bottleneck layer is passed through the Dense layer, where the number of nodes corresponds to the number of classes. The output is the probability distribution for all\n",
    "classes, squashed to add up to 100% by a softmax activation.\n",
    "\n",
    "<img src=\"img.png\"/>"
   ],
   "metadata": {
    "collapsed": false,
    "pycharm": {
     "name": "#%% md\n"
    }
   }
  },
  {
   "cell_type": "markdown",
   "source": [
    "The following is an example of coding this approach to a classifier component, consisting of GlobalAveragePooling2D for flattening and dimensionality reduction, followed by the Dense layer for classification"
   ],
   "metadata": {
    "collapsed": false,
    "pycharm": {
     "name": "#%% md\n"
    }
   }
  },
  {
   "cell_type": "code",
   "execution_count": 1,
   "outputs": [],
   "source": [
    "from keras.layers import GlobalAveragePooling2D, Dense\n",
    "def classifier(inputs, n_classes):\n",
    "    outputs = GlobalAveragePooling2D()(inputs)\n",
    "    outputs = Dense(n_classes, activation=\"softmax\")(outputs)\n",
    "    return outputs"
   ],
   "metadata": {
    "collapsed": false,
    "pycharm": {
     "name": "#%%\n"
    }
   }
  },
  {
   "cell_type": "code",
   "execution_count": null,
   "outputs": [],
   "source": [],
   "metadata": {
    "collapsed": false,
    "pycharm": {
     "name": "#%%\n"
    }
   }
  }
 ],
 "metadata": {
  "kernelspec": {
   "display_name": "Python 3",
   "language": "python",
   "name": "python3"
  },
  "language_info": {
   "codemirror_mode": {
    "name": "ipython",
    "version": 2
   },
   "file_extension": ".py",
   "mimetype": "text/x-python",
   "name": "python",
   "nbconvert_exporter": "python",
   "pygments_lexer": "ipython2",
   "version": "2.7.6"
  }
 },
 "nbformat": 4,
 "nbformat_minor": 0
}