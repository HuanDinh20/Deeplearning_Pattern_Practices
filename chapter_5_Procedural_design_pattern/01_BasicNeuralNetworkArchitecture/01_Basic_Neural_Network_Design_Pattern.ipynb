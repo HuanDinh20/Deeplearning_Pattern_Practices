{
 "cells": [
  {
   "cell_type": "markdown",
   "source": [
    "# Basic Neural Network Architecture\n",
    "The Idiomatic design pattern views the model as consisting of an overall macro-architecture pattern, and then each macro-component, in turn, consisting of a micro-architecture design.\n",
    "\n",
    "For a CNN, the macro architecture follows the convention of consisting of three macro components:\n",
    "a stem, a learner, and a task, as depicted in figure 5.1.\n",
    "<img src=\"img.png\"/>"
   ],
   "metadata": {
    "collapsed": false,
    "pycharm": {
     "name": "#%% md\n"
    }
   }
  },
  {
   "cell_type": "markdown",
   "source": [
    "As you can see, the **stem** component **takes the input (the image)** and does the initial **coarse-level** feature extraction, which becomes the input to the learner component.\n",
    "In this example, the stem includes a pre-stem group that does data preprocessing, and a stem convolution group that does coarse-level feature extraction.\n",
    "\n",
    "**The learner**, which may be composed of any number of convolutional groups, then does the **detailed feature extraction** and **representational learning from the extracted coarse features**. The output from the learner component is referred to as the **latent space**.\n",
    "\n",
    " **The task component** learns the task (classification, for example) from the representation of the input in the latent space.\n",
    "\n",
    "While this book focuses on CNNs, this macro-architecture of stem, learner, and task components can be applied to other neural network architectures, such as transformer networks with attention mechanisms in natural-language processing.\n",
    "\n",
    " Looking at a skeleton template for the Idiomatic design pattern using the functional API, you can see the data flow between components at a high level. We will be\n",
    "using this template (in the following code block), and building on it, throughout the chapters that use the Idiomatic design pattern. The skeleton consists of two main\n",
    "components:\n",
    "1. Function (procedural) input/output definitions of the major components: stem, learner, and task\n",
    "2. The input (tensor) flows through the major components\n",
    "\n",
    "\n",
    "<img src=\"img_1.png\" />\n"
   ],
   "metadata": {
    "collapsed": false,
    "pycharm": {
     "name": "#%% md\n"
    }
   }
  },
  {
   "cell_type": "markdown",
   "source": [
    "<img src=\"img_2.png\"/>"
   ],
   "metadata": {
    "collapsed": false,
    "pycharm": {
     "name": "#%% md\n"
    }
   }
  },
  {
   "cell_type": "markdown",
   "source": [
    "A complete code rendition using the Idiomatic procedure reuse design pattern for\n",
    "VGG is located on GitHub (http://mng.bz/qe4w) $\\\\$\n",
    "or $\\\\$\n",
    "https://github.com/GoogleCloudPlatform/keras-idiomatic-programmer/tree/master/zoo/vgg"
   ],
   "metadata": {
    "collapsed": false,
    "pycharm": {
     "name": "#%% md\n"
    }
   }
  },
  {
   "cell_type": "code",
   "execution_count": null,
   "outputs": [],
   "source": [],
   "metadata": {
    "collapsed": false,
    "pycharm": {
     "name": "#%%\n"
    }
   }
  }
 ],
 "metadata": {
  "kernelspec": {
   "display_name": "Python 3",
   "language": "python",
   "name": "python3"
  },
  "language_info": {
   "codemirror_mode": {
    "name": "ipython",
    "version": 2
   },
   "file_extension": ".py",
   "mimetype": "text/x-python",
   "name": "python",
   "nbconvert_exporter": "python",
   "pygments_lexer": "ipython2",
   "version": "2.7.6"
  }
 },
 "nbformat": 4,
 "nbformat_minor": 0
}