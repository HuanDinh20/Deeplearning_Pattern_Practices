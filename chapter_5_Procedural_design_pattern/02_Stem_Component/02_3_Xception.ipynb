{
 "cells": [
  {
   "cell_type": "markdown",
   "source": [
    "# Xception\n",
    "The current convention replaces a single 5 × 5 with two 3 × 3 convolutional layers. The Xception (https://arxiv.org/abs/1610.02357) stem component shown in figure 5.9 is\n",
    "an example. The first 3 × 3 convolution is strided (feature pooling) and produces 32 filters, and the second 3 × 3 convolution is not strided and doubles the number of output\n",
    "feature maps to 64. However, outside of its novelty in academics, the architecture of Xception was not adopted in production nor developed further by subsequent\n",
    "researchers\n",
    "\n",
    "<img src=\"img_6.png\"/>"
   ],
   "metadata": {
    "collapsed": false,
    "pycharm": {
     "name": "#%% md\n"
    }
   }
  },
  {
   "cell_type": "markdown",
   "source": [
    " the Conv-BN-RE form of batch normalization"
   ],
   "metadata": {
    "collapsed": false,
    "pycharm": {
     "name": "#%% md\n"
    }
   }
  },
  {
   "cell_type": "code",
   "execution_count": 2,
   "outputs": [],
   "source": [
    "from keras.layers import Conv2D, BatchNormalization, ReLU\n",
    "def stem(inputs):\n",
    "    \"\"\"Construct stem entry into neural network\"\"\"\n",
    "    outputs = Conv2D(32, kernel_size =(3,3), strides=(2,2))(inputs)\n",
    "    outputs = BatchNormalization()(outputs)\n",
    "    outputs = ReLU()(outputs)\n",
    "\n",
    "    outputs = Conv2D(64, kernel_size =(3,3), strides=(1,1))(outputs)\n",
    "    outputs = BatchNormalization()(outputs)\n",
    "    outputs = ReLU()(outputs)\n",
    "    return  outputs"
   ],
   "metadata": {
    "collapsed": false,
    "pycharm": {
     "name": "#%%\n"
    }
   }
  },
  {
   "cell_type": "code",
   "execution_count": null,
   "outputs": [],
   "source": [],
   "metadata": {
    "collapsed": false,
    "pycharm": {
     "name": "#%%\n"
    }
   }
  }
 ],
 "metadata": {
  "kernelspec": {
   "display_name": "Python 3",
   "language": "python",
   "name": "python3"
  },
  "language_info": {
   "codemirror_mode": {
    "name": "ipython",
    "version": 2
   },
   "file_extension": ".py",
   "mimetype": "text/x-python",
   "name": "python",
   "nbconvert_exporter": "python",
   "pygments_lexer": "ipython2",
   "version": "2.7.6"
  }
 },
 "nbformat": 4,
 "nbformat_minor": 0
}