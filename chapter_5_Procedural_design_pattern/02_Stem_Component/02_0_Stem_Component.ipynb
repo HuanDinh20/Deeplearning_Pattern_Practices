{
 "cells": [
  {
   "cell_type": "markdown",
   "source": [
    "## Introduction\n",
    "The stem component is the *entry point to the neural network*. Its primary purpose is to\n",
    "1. perform the first (coarse-level) feature extraction while also\n",
    "2. reducing the feature maps to a size designed for the learner component.\n",
    "The number of feature maps and the feature map sizes outputted by the stem component are designed by balancing\n",
    "two criteria at the same time:\n",
    " **Maximize the feature extraction for coarse-level features**. The goal here is to give the model enough information to learn finer-level features, within the model’s capacity.\n",
    " **Minimize the number of parameters in the downstream learner component**. Ideally, you want to minimize the size of the feature maps and the time it takes to train the model, but without affecting the model’s performance.\n",
    "\n",
    "This initial task is performed by the stem convolution group. Let’s now look at some variations of stem groups from a select number of well-known CNN models: VGG, ResNet,\n",
    "ResNeXt, and Inception.\n"
   ],
   "metadata": {
    "collapsed": false,
    "pycharm": {
     "name": "#%% md\n"
    }
   }
  },
  {
   "cell_type": "code",
   "execution_count": null,
   "outputs": [],
   "source": [],
   "metadata": {
    "collapsed": false,
    "pycharm": {
     "name": "#%%\n"
    }
   }
  }
 ],
 "metadata": {
  "kernelspec": {
   "display_name": "Python 3",
   "language": "python",
   "name": "python3"
  },
  "language_info": {
   "codemirror_mode": {
    "name": "ipython",
    "version": 2
   },
   "file_extension": ".py",
   "mimetype": "text/x-python",
   "name": "python",
   "nbconvert_exporter": "python",
   "pygments_lexer": "ipython2",
   "version": "2.7.6"
  }
 },
 "nbformat": 4,
 "nbformat_minor": 0
}