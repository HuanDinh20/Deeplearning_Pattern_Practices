{
 "cells": [
  {
   "cell_type": "markdown",
   "source": [
    "# Summary\n",
    "1. Using a design pattern to design and code a CNN makes models more understandable, saves time, ensures that the model represents best SOTA practices,and is easy for others to reproduce.\n",
    "2. The procedural design pattern uses the software engineering principle of reuse that is widely practiced by software engineers\n",
    "3. The macro-architecture consists of stem, learner, and task components that define the flow through the model and where/what type of learning occurs.\n",
    "4. The micro-architecture consists of group and block design patterns that define how the model performs learning.\n",
    "5. The purpose of a pre-stem group is to extend existing (pretrained) models for upstream data preprocessing, image augmentation, and adaptations to other deployed environments. Implementing pre-stems as plug-and-play provides ML ops to deploy models without accompanying upstream code\n",
    "6. The purpose of the task component is to learn a model-specific task from the latent space, encoding learning during feature extraction and representational learning\n",
    "7. The purpose of a multiple-layer output is to extend interconnectivity between models for complex tasks in the most efficient way while maintaining performance objectives.\n",
    "8. The attention mechanism in a transformer provided the method to sequentially learn the essential features in a manner comparable to computer vision, with\n",
    "out the need for a recurrent network."
   ],
   "metadata": {
    "collapsed": false,
    "pycharm": {
     "name": "#%% md\n"
    }
   }
  },
  {
   "cell_type": "code",
   "execution_count": null,
   "outputs": [],
   "source": [],
   "metadata": {
    "collapsed": false,
    "pycharm": {
     "name": "#%%\n"
    }
   }
  }
 ],
 "metadata": {
  "kernelspec": {
   "display_name": "Python 3",
   "language": "python",
   "name": "python3"
  },
  "language_info": {
   "codemirror_mode": {
    "name": "ipython",
    "version": 2
   },
   "file_extension": ".py",
   "mimetype": "text/x-python",
   "name": "python",
   "nbconvert_exporter": "python",
   "pygments_lexer": "ipython2",
   "version": "2.7.6"
  }
 },
 "nbformat": 4,
 "nbformat_minor": 0
}