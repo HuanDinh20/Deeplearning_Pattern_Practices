{
 "cells": [
  {
   "cell_type": "markdown",
   "source": [
    "# ResNet\n",
    "In ResNet50, 101, and 151, the learner component consists of four convolutional groups. The first group uses a nonstrided convolutional layer for the projection short\u0002cut in the first convolutional block, which takes input from the stem component. The other three convolutional groups use a strided convolutional layer (feature pooling)\n",
    "in the projection shortcut for the first convolutional block. Figure 5.12 shows this arrangement.\n",
    "<img src=\"img_2.png\" />"
   ],
   "metadata": {
    "collapsed": false,
    "pycharm": {
     "name": "#%% md\n"
    }
   }
  },
  {
   "cell_type": "markdown",
   "source": [
    "In this application, we did this because the first group starts with a nonstrided projection shortcut residual block, while all the remaining groups use a strided projection shortcut. Alternatively, we could have used a configuration attribute to indicate whether the first residual block is strided or not, and eliminated the special case (coding a separate block construction).\n",
    "\n",
    "<img src=\"img_3.png\" />"
   ],
   "metadata": {
    "collapsed": false,
    "pycharm": {
     "name": "#%% md\n"
    }
   }
  },
  {
   "cell_type": "code",
   "execution_count": 19,
   "outputs": [],
   "source": [
    "\n",
    "\n",
    "def learner(inputs, groups):\n",
    "    \"\"\"\n",
    "    Construct the leaner.\n",
    "    :param inputs: input to the learner\n",
    "    :param groups: group parameters per groups\n",
    "    :return:\n",
    "    \"\"\"\n",
    "    outputs = inputs\n",
    "    group_params = groups.pop(0)\n",
    "    # first residual goups is not strided\n",
    "    outputs = group(outputs, **group_params, strides=(1,1))\n",
    "\n",
    "    # Second residual goup are strided convolution\n",
    "\n",
    "    for group_params in groups:\n",
    "        outputs = groups(outputs, **group_params, strides=(2, 2))\n",
    "    return outputs\n",
    "\n"
   ],
   "metadata": {
    "collapsed": false,
    "pycharm": {
     "name": "#%%\n"
    }
   }
  },
  {
   "cell_type": "code",
   "execution_count": 20,
   "outputs": [],
   "source": [
    "resnest_groups = { 50 : [ (64, 3), (128, 4), (256, 6),  (512, 3) ],\t\t# ResNet50\n",
    "           101: [ (64, 3), (128, 4), (256, 23), (512, 3) ],\t\t# ResNet101\n",
    "           152: [ (64, 3), (128, 8), (256, 36), (512, 3) ]\t\t# ResNet152\n",
    "         }"
   ],
   "metadata": {
    "collapsed": false,
    "pycharm": {
     "name": "#%%\n"
    }
   }
  },
  {
   "cell_type": "markdown",
   "source": [
    "While ResNets continue to be used today as a stock model for the image classification backbone, the 50-layer ResNet50, depicted in figure 5.13, is the standard. At 50 layers, the model gives high accuracy at reasonable size and performance. The larger ResNets at 101 and 151 layers provide only minor increases in accuracy but at substantial increase in size and reduction in performance.\n",
    "Each group starts with\n",
    "1. A residual block with a linear projection shortcut,\n",
    "2. Followed by one or more residual blocks with an identity shortcut.\n",
    "3. All the residual blocks in a group have the same number of output filters.\n",
    "4. Each group successively doubles the number of output filters, and\n",
    "5. The residual block with a linear projection shortcut  doubles the number of filters from the input to the group\n",
    "\n",
    "\n",
    "<img src=\"img_4.png\">"
   ],
   "metadata": {
    "collapsed": false,
    "pycharm": {
     "name": "#%% md\n"
    }
   }
  },
  {
   "cell_type": "markdown",
   "source": [
    "The ResNets (for example, 50, 101, 152) consist of four convolutional groups; the output filters for the four groups follow the doubling convention, starting at 64, then 128, 256, and finally 512. The number convention (50) refers to the number of convolutional layers, which determines the number of convolutional blocks in each convolutional group.  The following is an example application of the skeleton template for coding the convolutional group of a ResNet50. For the group() function, we pop off the first block’s configuration attributes, which we know for a ResNet is a projection block, and then iterate through the remaining blocks as identity blocks:\n",
    "\n",
    "<img src=\"img_5.png\"/>"
   ],
   "metadata": {
    "collapsed": false,
    "pycharm": {
     "name": "#%% md\n"
    }
   }
  },
  {
   "cell_type": "code",
   "execution_count": 22,
   "outputs": [],
   "source": [
    "def group(inputs, blocks, strides=(2,2)):\n",
    "    \"\"\"\n",
    "    Construct a Residual Group\n",
    "    :param inputs: input into the group\n",
    "    :param blocks: block parameters for each group\n",
    "    :param strides: whether the projection block is a strided convolution\n",
    "    \"\"\"\n",
    "    outputs = inputs\n",
    "    block_params = blocks.pop(0)\n",
    "    output = projection_block(outputs, strides=strides, **block_params)\n",
    "\n",
    "    for block_params in blocks:\n",
    "        outputs = identity_block(outputs, **block_params)\n",
    "    return  outputs"
   ],
   "metadata": {
    "collapsed": false,
    "pycharm": {
     "name": "#%%\n"
    }
   }
  },
  {
   "cell_type": "markdown",
   "source": [],
   "metadata": {
    "collapsed": false,
    "pycharm": {
     "name": "#%% md\n"
    }
   }
  },
  {
   "cell_type": "markdown",
   "source": [],
   "metadata": {
    "collapsed": false,
    "pycharm": {
     "name": "#%% md\n"
    }
   }
  }
 ],
 "metadata": {
  "kernelspec": {
   "display_name": "Python 3",
   "language": "python",
   "name": "python3"
  },
  "language_info": {
   "codemirror_mode": {
    "name": "ipython",
    "version": 2
   },
   "file_extension": ".py",
   "mimetype": "text/x-python",
   "name": "python",
   "nbconvert_exporter": "python",
   "pygments_lexer": "ipython2",
   "version": "2.7.6"
  }
 },
 "nbformat": 4,
 "nbformat_minor": 0
}