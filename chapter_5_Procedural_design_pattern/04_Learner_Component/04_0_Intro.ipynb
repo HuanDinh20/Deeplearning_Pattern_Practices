{
 "cells": [
  {
   "cell_type": "markdown",
   "source": [
    "# Learner Component\n",
    "The learner component is where we generally perform feature learning through more detailed feature extraction. This process is also referred to as representational or transformational learning (as transformational learning is dependent on the task). The learner component consists of one or more convolutional groups, and each group\n",
    "consists of one or more convolutional blocks.\n",
    "\n",
    "The convolutional blocks get assembled into groups based on a common model configuration attribute. The most common attributes for convolutional groups in conventional CNNs are the number of input or output filters, or the size of the input or output feature maps. For example, in ResNet, the configurable attributes for a group are the number of convolutional blocks, and the number of filters per block.\n",
    "\n",
    "The convolutional blocks get assembled into groups based on a common model configuration attribute. The most common attributes for convolutional groups in conventional CNNs are the number of input or output filters, or the size of the input or output feature maps. For example, in ResNet, the configurable attributes for a group\n",
    "are the number of convolutional blocks, and the number of filters per block.\n",
    "\n",
    "<img src=\"img.png\"/>"
   ],
   "metadata": {
    "collapsed": false,
    "pycharm": {
     "name": "#%% md\n"
    }
   }
  },
  {
   "cell_type": "markdown",
   "source": [
    "learner = groups\n",
    "group = blocks\n",
    "block = layers"
   ],
   "metadata": {
    "collapsed": false,
    "pycharm": {
     "name": "#%% md\n"
    }
   }
  },
  {
   "cell_type": "code",
   "execution_count": 1,
   "outputs": [],
   "source": [
    "def learner(inputs, groups):\n",
    "    \"\"\"\n",
    "\n",
    "    :param inputs: the input tensors - feature maps\n",
    "    :param groups: the block parameters for each group\n",
    "\n",
    "    iterates through the dictionary values for each groiup attribute\n",
    "    \"\"\"\n",
    "    outputs = inputs\n",
    "    for group_params in groups:\n",
    "        outputs = group(outputs, **group_params)\n",
    "    return outputs"
   ],
   "metadata": {
    "collapsed": false,
    "pycharm": {
     "name": "#%%\n"
    }
   }
  },
  {
   "cell_type": "code",
   "execution_count": 2,
   "outputs": [],
   "source": [
    "def group(inputs, **blocks):\n",
    "    \"\"\"\n",
    "\n",
    "    :param inputs: the input tensors - feature maps\n",
    "    :param blocks: the block parameters for each block\n",
    "    Iterate through the dictionary values for each block attribute\n",
    "    \"\"\"\n",
    "    outputs = inputs\n",
    "    for block_params in blocks:\n",
    "        outputs = block(outputs, **block_params)\n",
    "    return outputs\n"
   ],
   "metadata": {
    "collapsed": false,
    "pycharm": {
     "name": "#%%\n"
    }
   }
  },
  {
   "cell_type": "code",
   "execution_count": 3,
   "outputs": [],
   "source": [
    "def block(inputs, **params):\n",
    "    \"\"\" block layers\n",
    "   inputs : the input tensors (feature maps)\n",
    "   params : the block parameters for the block\n",
    "   \"\"\"\n",
    "\n",
    "    return None"
   ],
   "metadata": {
    "collapsed": false,
    "pycharm": {
     "name": "#%%\n"
    }
   }
  },
  {
   "cell_type": "markdown",
   "source": [
    "outputs = learner(outputs, [ {'n_filters: 128'},\n",
    " {'n_filters: 128'},\n",
    " {'n_filters: 256'} ]"
   ],
   "metadata": {
    "collapsed": false,
    "pycharm": {
     "name": "#%% md\n"
    }
   }
  },
  {
   "cell_type": "markdown",
   "source": [
    "<img src=\"img_1.png\"/>"
   ],
   "metadata": {
    "collapsed": false,
    "pycharm": {
     "name": "#%% md\n"
    }
   }
  },
  {
   "cell_type": "code",
   "execution_count": null,
   "outputs": [],
   "source": [],
   "metadata": {
    "collapsed": false,
    "pycharm": {
     "name": "#%%\n"
    }
   }
  }
 ],
 "metadata": {
  "kernelspec": {
   "display_name": "Python 3",
   "language": "python",
   "name": "python3"
  },
  "language_info": {
   "codemirror_mode": {
    "name": "ipython",
    "version": 2
   },
   "file_extension": ".py",
   "mimetype": "text/x-python",
   "name": "python",
   "nbconvert_exporter": "python",
   "pygments_lexer": "ipython2",
   "version": "2.7.6"
  }
 },
 "nbformat": 4,
 "nbformat_minor": 0
}