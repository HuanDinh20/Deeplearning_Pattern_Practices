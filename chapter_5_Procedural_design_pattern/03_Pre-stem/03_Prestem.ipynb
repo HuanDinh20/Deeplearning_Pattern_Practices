{
 "cells": [
  {
   "cell_type": "markdown",
   "source": [
    "# Pre-Stem\n",
    "In 2019, we started to see the emergence of adding a pre-stem group to the stem component. The purpose of a pre-stem is to move into the graph (model) some or all of the\n",
    "data preprocessing that was performed upstream. Before the development of the pre-stem component, the data preprocessing took place in a separate module and then\n",
    "had to be replicated when the model was deployed for inference (for prediction) on future examples. Generally, this was done on a CPU. Many of the data preprocessing\n",
    "steps can be replaced by graph operations, however, and then executed more efficiently on a GPU, where the model typically is deployed. $\\\\$\n",
    "Pre-stems are also plug-and-play in that they can be added or removed from existing models and reused. I’ll present the technical details of pre-stems later. Here I just\n",
    "want to provide a summary of functions typically performed by a pre-stem group:\n",
    " Preprocessing\n",
    "– Adapting a model to a different input size\n",
    "– Normalization\n",
    " Augmentation\n",
    "– Resizing and cropping\n",
    "– Translational and scale invariance"
   ],
   "metadata": {
    "collapsed": false,
    "pycharm": {
     "name": "#%% md\n"
    }
   }
  },
  {
   "cell_type": "markdown",
   "source": [
    "Figure 5.10 depicts how a pre-stem group is added to an existing model. To attach a pre-stem, you create a new empty wrapper model, add the pre-stem, and then add the\n",
    "existing model. In the latter step, the output shape from the pre-stem group must match the input shape of the stem component of the existing model."
   ],
   "metadata": {
    "collapsed": false,
    "pycharm": {
     "name": "#%% md\n"
    }
   }
  },
  {
   "cell_type": "markdown",
   "source": [
    "<img src=\"img.png\"/>"
   ],
   "metadata": {
    "collapsed": false,
    "pycharm": {
     "name": "#%% md\n"
    }
   }
  },
  {
   "cell_type": "raw",
   "source": [
    "The following is an example of a typical approach to adding a pre-stem group to an existing model. In this code, an empty Sequential wrapper model is instantiated. The prestem group is then added, followed by the existing model. This will work as long as the output tensors match the input tensors of the model (for example, (224, 224, 3)):"
   ],
   "metadata": {
    "collapsed": false,
    "pycharm": {
     "name": "#%% raw\n"
    }
   }
  },
  {
   "cell_type": "code",
   "execution_count": 1,
   "outputs": [],
   "source": [
    "from keras import Sequential\n",
    "from keras.layers import Normalization\n",
    "def pre_stem(input_shape):\n",
    "    outputs = Normalization(input_shape=input_shape)\n",
    "    return outputs\n",
    "\n",
    "models = Sequential()\n",
    "models.add(pre_stem((224,224,3)))"
   ],
   "metadata": {
    "collapsed": false,
    "pycharm": {
     "name": "#%%\n"
    }
   }
  },
  {
   "cell_type": "code",
   "execution_count": 6,
   "outputs": [
    {
     "name": "stdout",
     "output_type": "stream",
     "text": [
      "Model: \"sequential\"\n",
      "_________________________________________________________________\n",
      " Layer (type)                Output Shape              Param #   \n",
      "=================================================================\n",
      " normalization (Normalizatio  (None, 224, 224, 3)      7         \n",
      " n)                                                              \n",
      "                                                                 \n",
      "=================================================================\n",
      "Total params: 7\n",
      "Trainable params: 0\n",
      "Non-trainable params: 7\n",
      "_________________________________________________________________\n"
     ]
    }
   ],
   "source": [
    "models.summary()"
   ],
   "metadata": {
    "collapsed": false,
    "pycharm": {
     "name": "#%%\n"
    }
   }
  },
  {
   "cell_type": "markdown",
   "source": [],
   "metadata": {
    "collapsed": false,
    "pycharm": {
     "name": "#%% md\n"
    }
   }
  }
 ],
 "metadata": {
  "kernelspec": {
   "display_name": "Python 3",
   "language": "python",
   "name": "python3"
  },
  "language_info": {
   "codemirror_mode": {
    "name": "ipython",
    "version": 2
   },
   "file_extension": ".py",
   "mimetype": "text/x-python",
   "name": "python",
   "nbconvert_exporter": "python",
   "pygments_lexer": "ipython2",
   "version": "2.7.6"
  }
 },
 "nbformat": 4,
 "nbformat_minor": 0
}