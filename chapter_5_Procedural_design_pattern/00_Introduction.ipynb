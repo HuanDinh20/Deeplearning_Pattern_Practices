{
 "cells": [
  {
   "cell_type": "markdown",
   "source": [
    "# This chapter covers\n",
    " Introducing a procedural design pattern for a\n",
    "convolutional neural network\n",
    " Decomposing the architecture of the procedural\n",
    "design pattern into macro- and micro-components\n",
    " Coding former SOTA models with the procedural\n",
    "design pattern"
   ],
   "metadata": {
    "collapsed": false,
    "pycharm": {
     "name": "#%% md\n"
    }
   }
  },
  {
   "cell_type": "markdown",
   "source": [
    "Prior to 2017, the majority of renditions of neural network models were coded in a batch scripting style. As AI researchers and experienced software engineers became\n",
    "increasingly involved in research and design, we started to see a shift in the coding of models that reflected software engineering principles for reuse and design\n",
    "patterns.$\\\\$\n",
    "One of the earliest versions of using design patterns for neural network models was the use of a procedural style for reuse. A design pattern implies that there is a\n",
    "current best practice for constructing and coding a model that can be reapplied across a wide range of cases, such as image classification, object detection and track\u0002ing, facial recognition, image segmentation, super resolution, and style transfer.\n",
    "\n",
    "So how did the introduction of design patterns aid in the advancement of CNNs (as well as in other architectures, such as transformers for NLP)?\n",
    "1. First, it aided other researchers in understanding and reproducing a model’s architecture.\n",
    "2. Decomposing a model into its reusable components, or patterns, provided a means for other practitioners to observe, understand, and then perform efficient device experiments $\\\\$\n",
    "Understanding the architecture of the procedural design pattern is crucial if you are going to apply it to any model you are building. In this chapter, I will first show you how this pattern is built, by decomposing it into its macro-architectural components, then its micro-architectural groups and blocks. Once you see how the parts work, individually and together, you’ll be ready to start working with the code that builds these parts.$\\\\$\n",
    "\n",
    "To show how the procedural design pattern makes it easier to reproduce model components, we will then apply it to several formerly SOTA models: VGG, ResNet, ResNeXt, Inception, DenseNet, and SqueezeNet. This should give you both a deeper understanding of how these models work, as well as practical experience reproducing them. Some notable highlights of these architectures are as follows:\n",
    " VGG —2014 winner of image classification in ImageNet ILSVRC challenge\n",
    " ResNet—2015 winner of image classification in ImageNet ILSVRC challenge\n",
    " ResNeXt—2016, authors improve accuracy with introduction of wide convolutional layer\n",
    " Inception—2014 winner for object detection in ImageNet ILSVRC challenge\n",
    " DenseNet—2017, authors introduced feature map reuse\n",
    " SqueezeNet—2016, authors introduce concept of a configurable component\n",
    "We will briefly cover one procedural design pattern based on the Idiomatic design pattern for CNN models.\n"
   ],
   "metadata": {
    "collapsed": false,
    "pycharm": {
     "name": "#%% md\n"
    }
   }
  },
  {
   "cell_type": "code",
   "execution_count": null,
   "outputs": [],
   "source": [],
   "metadata": {
    "collapsed": false,
    "pycharm": {
     "name": "#%%\n"
    }
   }
  }
 ],
 "metadata": {
  "kernelspec": {
   "display_name": "Python 3",
   "language": "python",
   "name": "python3"
  },
  "language_info": {
   "codemirror_mode": {
    "name": "ipython",
    "version": 2
   },
   "file_extension": ".py",
   "mimetype": "text/x-python",
   "name": "python",
   "nbconvert_exporter": "python",
   "pygments_lexer": "ipython2",
   "version": "2.7.6"
  }
 },
 "nbformat": 4,
 "nbformat_minor": 0
}