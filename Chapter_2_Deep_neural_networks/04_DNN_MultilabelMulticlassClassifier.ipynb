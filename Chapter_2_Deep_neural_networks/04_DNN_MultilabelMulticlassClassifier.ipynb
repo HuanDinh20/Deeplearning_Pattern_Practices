{
 "cells": [
  {
   "cell_type": "markdown",
   "source": [
    "# DNN Multilabel Multiclass Classifier\n",
    "Now let’s look at predicting two or more classes (labels) per input. Let’s use our previous example of predicting whether someone is a baby, toddler, preteen, teenager, or adult. This time, we will remove gender from one of the features and instead make it one of the labels to predict. Our input will be the height, weight, and nose surface area, and our outputs will be two classes: age category (baby, toddler, etc.) and gender (male or female). An example prediction might look like this:\n",
    "[height, weight, nose surface area] -> neural network -> [preteen, female]\n",
    "\n",
    "To predict two or more labels from multiple inputs, as we do here, we use—you guessed it—a multilabel multiclass classifier. To do this, we need to make a few changes from our previous multiclass classifier. On our output layer, our number of output classes is the sum of all the output categories.\n",
    "\n",
    "The functional API gives us the ability to fix this without adding any post-logic. In this case, we want to replace the output layer, which combines the two sets of classes, with two parallel output layers, one for the first set of classes (age categories) and one for the second set of classes (gender). You can see this setup in figure 2.7.\n",
    "\n",
    "<img src=\"img_6.png\">"
   ],
   "metadata": {
    "collapsed": false,
    "pycharm": {
     "name": "#%% md\n"
    }
   }
  },
  {
   "cell_type": "markdown",
   "source": [
    " In the following code example, only the final output layer differs from the previous code listing. Here, instead of a single output layer, we have the two parallel layers. Then when we put it all together with the Model class, instead of passing in a single output layer, we pass in a list of output layers: [output1, output2]. Finally, since each output layer makes independent predictions, we can return to treating them as a multiclass classifier—meaning we return to using categorical_crossentropy as the loss function and adam as the optimizer.  This design of a multilabel multiclassifier can also be referred to as a neural network with multiple outputs, in which each output learns a different task. Since we will be training this model to do multiple independent predictions, this is also known as a   multitask model:"
   ],
   "metadata": {
    "collapsed": false,
    "pycharm": {
     "name": "#%% md\n"
    }
   }
  },
  {
   "cell_type": "code",
   "execution_count": 1,
   "outputs": [],
   "source": [
    "from keras.layers import Input, Dense\n",
    "from keras import Model"
   ],
   "metadata": {
    "collapsed": false,
    "pycharm": {
     "name": "#%%\n"
    }
   }
  },
  {
   "cell_type": "code",
   "execution_count": 2,
   "outputs": [
    {
     "name": "stdout",
     "output_type": "stream",
     "text": [
      "Model: \"model\"\n",
      "__________________________________________________________________________________________________\n",
      " Layer (type)                   Output Shape         Param #     Connected to                     \n",
      "==================================================================================================\n",
      " input_1 (InputLayer)           [(None, 13)]         0           []                               \n",
      "                                                                                                  \n",
      " dense (Dense)                  (None, 10)           140         ['input_1[0][0]']                \n",
      "                                                                                                  \n",
      " dense_1 (Dense)                (None, 10)           110         ['dense[0][0]']                  \n",
      "                                                                                                  \n",
      " dense_2 (Dense)                (None, 5)            55          ['dense_1[0][0]']                \n",
      "                                                                                                  \n",
      " dense_3 (Dense)                (None, 2)            22          ['dense_1[0][0]']                \n",
      "                                                                                                  \n",
      "==================================================================================================\n",
      "Total params: 327\n",
      "Trainable params: 327\n",
      "Non-trainable params: 0\n",
      "__________________________________________________________________________________________________\n"
     ]
    }
   ],
   "source": [
    "functional_input = Input((13,))\n",
    "X = Dense(10, activation=\"relu\")(functional_input)\n",
    "X = Dense(10, activation=\"relu\")(X)\n",
    "output1 = Dense(5, activation=\"softmax\")(X)\n",
    "output2 = Dense(2, activation=\"softmax\")(X)\n",
    "functional_model = Model(functional_input, [output1, output2])\n",
    "functional_model.compile(loss=\"categorical_crossentropy\", optimizer=\"adam\", metrics=[\"accuracy\"])\n",
    "functional_model.summary()"
   ],
   "metadata": {
    "collapsed": false,
    "pycharm": {
     "name": "#%%\n"
    }
   }
  },
  {
   "cell_type": "code",
   "execution_count": 3,
   "outputs": [],
   "source": [
    "from tensorflow.keras import utils"
   ],
   "metadata": {
    "collapsed": false,
    "pycharm": {
     "name": "#%%\n"
    }
   }
  },
  {
   "cell_type": "code",
   "execution_count": 5,
   "outputs": [
    {
     "name": "stdout",
     "output_type": "stream",
     "text": [
      "You must install pydot (`pip install pydot`) and install graphviz (see instructions at https://graphviz.gitlab.io/download/) for plot_model/model_to_dot to work.\n"
     ]
    }
   ],
   "source": [
    "utils.plot_model(functional_model, \"multi_input_and_output_model.png\", show_shapes=True)"
   ],
   "metadata": {
    "collapsed": false,
    "pycharm": {
     "name": "#%%\n"
    }
   }
  },
  {
   "cell_type": "code",
   "execution_count": 4,
   "outputs": [],
   "source": [],
   "metadata": {
    "collapsed": false,
    "pycharm": {
     "name": "#%%\n"
    }
   }
  }
 ],
 "metadata": {
  "kernelspec": {
   "display_name": "Python 3",
   "language": "python",
   "name": "python3"
  },
  "language_info": {
   "codemirror_mode": {
    "name": "ipython",
    "version": 2
   },
   "file_extension": ".py",
   "mimetype": "text/x-python",
   "name": "python",
   "nbconvert_exporter": "python",
   "pygments_lexer": "ipython2",
   "version": "2.7.6"
  }
 },
 "nbformat": 4,
 "nbformat_minor": 0
}