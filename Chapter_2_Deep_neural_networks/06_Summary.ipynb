{
 "cells": [
  {
   "cell_type": "markdown",
   "source": [
    "# Summary\n",
    "1. The neural network’s input and input layer are not the same thing and do not need to be the same size. The input is the features of the samples, while the\n",
    "input layer is the first layer of weights and biases to learn to predict the corresponding label.\n",
    "2. A deep neural network has one or more layers between the input and output layers, which are called hidden layers. Using a programming function as an\n",
    "analogy, the input layer is the parameters to the function, the output layer is the return value from the function, and the hidden layers are the code within the\n",
    "function that transform the input parameters to an output return value\n",
    "3. Neural networks are directed acyclic graphs, in that data is fed forward from the input layer to the output layer.\n",
    "4. Activations, like ReLU and softmax, squash the output signals of layers, which researchers found help models learn better.\n",
    "5. The role of the optimizer is to update weights from the current batch loss so that the loss on subsequent batches gets smaller.\n",
    "6. A regressor uses a linear activation to predict a continuous real value, like predicting the sale price of a house.\n",
    "7. A binary classifier uses a sigmoid activation to predict a binary state: true/false, 1/0, yes/no.\n",
    "8. A multiclass classifier uses a softmax activation to predict a class from a set of classes, like predicting the age demographic of a person.\n",
    "9. The sequential API is easy to get started but limited in that it does not support branching in the model.\n",
    "10. The functional API is preferred over the sequential API for production models.\n",
    "11. Overfitting occurs when the model memorizes training samples during training, which prevents the model from generalizing to samples it was not trained\n",
    "on. Regularization methods inject small amounts of random noise during training, which has shown to be effective in preventing memorization"
   ],
   "metadata": {
    "collapsed": false,
    "pycharm": {
     "name": "#%% md\n"
    }
   }
  },
  {
   "cell_type": "code",
   "execution_count": null,
   "outputs": [],
   "source": [],
   "metadata": {
    "collapsed": false,
    "pycharm": {
     "name": "#%%\n"
    }
   }
  }
 ],
 "metadata": {
  "kernelspec": {
   "display_name": "Python 3",
   "language": "python",
   "name": "python3"
  },
  "language_info": {
   "codemirror_mode": {
    "name": "ipython",
    "version": 2
   },
   "file_extension": ".py",
   "mimetype": "text/x-python",
   "name": "python",
   "nbconvert_exporter": "python",
   "pygments_lexer": "ipython2",
   "version": "2.7.6"
  }
 },
 "nbformat": 4,
 "nbformat_minor": 0
}