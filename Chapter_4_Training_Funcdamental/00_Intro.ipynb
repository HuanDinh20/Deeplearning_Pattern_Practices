{
 "cells": [
  {
   "cell_type": "markdown",
   "source": [
    "# This chapter covers\n",
    "1. Forward feeding and backward propagation\n",
    "2. Splitting datasets and preprocessing data\n",
    "3. Using validation data to monitor overfitting\n",
    "4. Using checkpointing and early stopping for more-economical training\n",
    "5. Using hyperparameters versus model parameters\n",
    "6. Training for invariance to location and scale\n",
    "7. Assembling and accessing on-disk datasets\n",
    "8. Saving and then restoring a trained model\n",
    "\n",
    "This chapter covers the fundamentals of training a model. Prior to 2019, the majority of models were trained according to this set of fundamental steps. Consider this chapter as a foundation.\n",
    "\n",
    " In this chapter, we cover methods, techniques, and best practices developed over time by experimentation and trial and error. We will start by reviewing forward\n",
    "feeding and backward propagation. While these concepts and practices pre-existed deep learning, numerous refinements over the years made model training practical—specifically, in the way we split the data, feed it, and then update weights using gradient descent during backward propagation. These technique refinements provided the means to train models to convergence, the point where the accuracy of the model to predict would plateau\n",
    "\n",
    "Other training techniques in data preprocessing and augmentation were developed to push convergence to higher plateaus, and aid models into better generalizing to data that the model was not trained on. Further refinements continued to make training more economical through hyperparameter search and tuning, along with checkpointing and early stopping, and more-efficient formats and methods of drawing data from disk storage during training. All these techniques combined led to making deep learning for real-world applications practical both computationally and economically."
   ],
   "metadata": {
    "collapsed": false,
    "pycharm": {
     "name": "#%% md\n"
    }
   }
  },
  {
   "cell_type": "code",
   "execution_count": null,
   "outputs": [],
   "source": [],
   "metadata": {
    "collapsed": false,
    "pycharm": {
     "name": "#%%\n"
    }
   }
  }
 ],
 "metadata": {
  "kernelspec": {
   "display_name": "Python 3",
   "language": "python",
   "name": "python3"
  },
  "language_info": {
   "codemirror_mode": {
    "name": "ipython",
    "version": 2
   },
   "file_extension": ".py",
   "mimetype": "text/x-python",
   "name": "python",
   "nbconvert_exporter": "python",
   "pygments_lexer": "ipython2",
   "version": "2.7.6"
  }
 },
 "nbformat": 4,
 "nbformat_minor": 0
}