{
 "cells": [
  {
   "cell_type": "markdown",
   "source": [
    "# Checkpointing and early stopping\n",
    "\n",
    "This section covers two techniques for making training more economical: checkpointing and early stopping. Checkpointing is useful when a model overtrains and diverges, and we want to recover the model weights at the point of convergence without the additional cost of retraining. You can think of early stopping as an extension to checkpointing. We have a monitoring system detect divergence at the earliest moment that it occurs, and then we stop training, saving additional cost when recovering a checkpoint at the point of divergence.\n",
    "\n",
    "\n",
    "## Check Pointing\n",
    "Checkpointing is periodically saving the learned model parameters and current hyperparameter values during training. There are two reasons for doing this:\n",
    "1. To be able to resume training of a model where you left off, instead of restarting the training from the beginning\n",
    "2. To identify a past point in training where the model gave the best results\n",
    "\n",
    "In the first case, we might want to split training across sessions as a way of managing resources. For example, we might reserve (or be authorized) one hour a day for training. At the end of the one-hour training each day, the training is checkpointed. The following day, training is resumed by restoring from the checkpoint. For example, you might be working in a research organization that has a fixed budget for computing expenses, and your team is experimenting with training a model with substantial computing costs. To manage the budget, your team might be allocated a limit of daily computing expenses.\n",
    "\n",
    "Why wouldn’t saving the model’s weights and biases be enough? In neural networks, some hyperparameter values will dynamically change, such as the learning rate and decay. We would want to resume at the same hyperparameter values at the time the training was paused.\n",
    "\n",
    "In another scenario, we might implement continuous learning as a part of a continuous integration and delivery (CI/CD) process. In this scenario, new labeled\n",
    "images are **continuously added** to the training data, and we want to only **incrementally retrain the model instead of retraining from scratch** on each integration cycle.\n",
    "\n",
    " In the second case, we might want to find the best result after a model has trained past the best optimum, and started to diverge and/or overfit. We would not want to start retraining from scratch with fewer epochs (or other hyperparameter changes), but instead identify the epoch that achieved the best results, and restore (set) the learned model parameters to those that were checkpointed at the end of that epoch.\n",
    "\n",
    "\n"
   ],
   "metadata": {
    "collapsed": false,
    "pycharm": {
     "name": "#%% md\n"
    }
   }
  },
  {
   "cell_type": "code",
   "execution_count": 1,
   "outputs": [],
   "source": [
    "from keras.callbacks import ModelCheckpoint\n",
    "file_path = \"./saved_model/mymodel_{epoch:02d}.ckpt\"\n",
    "checkpoint = ModelCheckpoint(file_path)"
   ],
   "metadata": {
    "collapsed": false,
    "pycharm": {
     "name": "#%%\n"
    }
   }
  },
  {
   "cell_type": "code",
   "execution_count": 15,
   "outputs": [
    {
     "name": "stdout",
     "output_type": "stream",
     "text": [
      "Model: \"sequential_4\"\n",
      "_________________________________________________________________\n",
      " Layer (type)                Output Shape              Param #   \n",
      "=================================================================\n",
      " dense_4 (Dense)             (None, 28, 3)             12        \n",
      "                                                                 \n",
      "=================================================================\n",
      "Total params: 12\n",
      "Trainable params: 12\n",
      "Non-trainable params: 0\n",
      "_________________________________________________________________\n"
     ]
    }
   ],
   "source": [
    "from keras import Sequential\n",
    "from keras.layers import Dense\n",
    "import tensorflow as tf\n",
    "model = Sequential([\n",
    "    Dense(3, activation=\"relu\", input_shape=(28,3))\n",
    "])\n",
    "model.compile(loss=\"mse\", optimizer=\"adam\", metrics=tf.keras.metrics.RootMeanSquaredError())\n",
    "model.summary()"
   ],
   "metadata": {
    "collapsed": false,
    "pycharm": {
     "name": "#%%\n"
    }
   }
  },
  {
   "cell_type": "code",
   "execution_count": 16,
   "outputs": [
    {
     "name": "stdout",
     "output_type": "stream",
     "text": [
      "Epoch 1/10\n",
      "1/1 [==============================] - ETA: 0s - loss: 144.4981 - root_mean_squared_error: 12.0207INFO:tensorflow:Assets written to: ./saved_model\\mymodel_01.ckpt\\assets\n",
      "1/1 [==============================] - 1s 587ms/step - loss: 144.4981 - root_mean_squared_error: 12.0207\n",
      "Epoch 2/10\n",
      "1/1 [==============================] - ETA: 0s - loss: 144.4720 - root_mean_squared_error: 12.0197INFO:tensorflow:Assets written to: ./saved_model\\mymodel_02.ckpt\\assets\n",
      "1/1 [==============================] - 0s 230ms/step - loss: 144.4720 - root_mean_squared_error: 12.0197\n",
      "Epoch 3/10\n",
      "1/1 [==============================] - ETA: 0s - loss: 144.4459 - root_mean_squared_error: 12.0186INFO:tensorflow:Assets written to: ./saved_model\\mymodel_03.ckpt\\assets\n",
      "1/1 [==============================] - 0s 216ms/step - loss: 144.4459 - root_mean_squared_error: 12.0186\n",
      "Epoch 4/10\n",
      "1/1 [==============================] - ETA: 0s - loss: 144.4198 - root_mean_squared_error: 12.0175INFO:tensorflow:Assets written to: ./saved_model\\mymodel_04.ckpt\\assets\n",
      "1/1 [==============================] - 0s 237ms/step - loss: 144.4198 - root_mean_squared_error: 12.0175\n",
      "Epoch 5/10\n",
      "1/1 [==============================] - ETA: 0s - loss: 144.3936 - root_mean_squared_error: 12.0164INFO:tensorflow:Assets written to: ./saved_model\\mymodel_05.ckpt\\assets\n",
      "1/1 [==============================] - 0s 244ms/step - loss: 144.3936 - root_mean_squared_error: 12.0164\n",
      "Epoch 6/10\n",
      "1/1 [==============================] - ETA: 0s - loss: 144.3674 - root_mean_squared_error: 12.0153INFO:tensorflow:Assets written to: ./saved_model\\mymodel_06.ckpt\\assets\n",
      "1/1 [==============================] - 0s 238ms/step - loss: 144.3674 - root_mean_squared_error: 12.0153\n",
      "Epoch 7/10\n",
      "1/1 [==============================] - ETA: 0s - loss: 144.3412 - root_mean_squared_error: 12.0142INFO:tensorflow:Assets written to: ./saved_model\\mymodel_07.ckpt\\assets\n",
      "1/1 [==============================] - 0s 239ms/step - loss: 144.3412 - root_mean_squared_error: 12.0142\n",
      "Epoch 8/10\n",
      "1/1 [==============================] - ETA: 0s - loss: 144.3150 - root_mean_squared_error: 12.0131INFO:tensorflow:Assets written to: ./saved_model\\mymodel_08.ckpt\\assets\n",
      "1/1 [==============================] - 0s 224ms/step - loss: 144.3150 - root_mean_squared_error: 12.0131\n",
      "Epoch 9/10\n",
      "1/1 [==============================] - ETA: 0s - loss: 144.2887 - root_mean_squared_error: 12.0120INFO:tensorflow:Assets written to: ./saved_model\\mymodel_09.ckpt\\assets\n",
      "1/1 [==============================] - 0s 226ms/step - loss: 144.2887 - root_mean_squared_error: 12.0120\n",
      "Epoch 10/10\n",
      "1/1 [==============================] - ETA: 0s - loss: 144.2624 - root_mean_squared_error: 12.0109INFO:tensorflow:Assets written to: ./saved_model\\mymodel_10.ckpt\\assets\n",
      "1/1 [==============================] - 0s 218ms/step - loss: 144.2624 - root_mean_squared_error: 12.0109\n"
     ]
    },
    {
     "data": {
      "text/plain": "<keras.callbacks.History at 0x1fe4cbd7e80>"
     },
     "execution_count": 16,
     "metadata": {},
     "output_type": "execute_result"
    }
   ],
   "source": [
    "import numpy as np\n",
    "X = np.random.randn(28,28,3)\n",
    "X = tf.convert_to_tensor(X)\n",
    "y = 2*X**2 + 0.5*X +10\n",
    "model.fit(X, y, epochs=10, callbacks=[checkpoint])"
   ],
   "metadata": {
    "collapsed": false,
    "pycharm": {
     "name": "#%%\n"
    }
   }
  },
  {
   "cell_type": "markdown",
   "source": [
    "Alternatively, we can save the current best checkpoint with the parameter **save_best_only=True** and the **parameter monitor to the measurement** to base the decision on.\n",
    "\n",
    "For example, if the parameter monitor is set to val_acc, it will write a checkpoint only if the validation accuracy is higher than the last saved checkpoint. If the parameter is set to val_loss, it will write a checkpoint only if the validation loss is lower than the last saved checkpoint:\n"
   ],
   "metadata": {
    "collapsed": false,
    "pycharm": {
     "name": "#%% md\n"
    }
   }
  },
  {
   "cell_type": "code",
   "execution_count": 22,
   "outputs": [
    {
     "name": "stdout",
     "output_type": "stream",
     "text": [
      "Epoch 1/10\n",
      "1/1 [==============================] - ETA: 0s - loss: 144.3066 - root_mean_squared_error: 12.0128WARNING:tensorflow:Can save best model only with val_acc available, skipping.\n",
      "1/1 [==============================] - 0s 287ms/step - loss: 144.3066 - root_mean_squared_error: 12.0128\n",
      "Epoch 2/10\n",
      "1/1 [==============================] - ETA: 0s - loss: 144.2818 - root_mean_squared_error: 12.0117WARNING:tensorflow:Can save best model only with val_acc available, skipping.\n",
      "1/1 [==============================] - 0s 3ms/step - loss: 144.2818 - root_mean_squared_error: 12.0117\n",
      "Epoch 3/10\n",
      "1/1 [==============================] - ETA: 0s - loss: 144.2569 - root_mean_squared_error: 12.0107WARNING:tensorflow:Can save best model only with val_acc available, skipping.\n",
      "1/1 [==============================] - 0s 2ms/step - loss: 144.2569 - root_mean_squared_error: 12.0107\n",
      "Epoch 4/10\n",
      "1/1 [==============================] - ETA: 0s - loss: 144.2321 - root_mean_squared_error: 12.0097WARNING:tensorflow:Can save best model only with val_acc available, skipping.\n",
      "1/1 [==============================] - 0s 2ms/step - loss: 144.2321 - root_mean_squared_error: 12.0097\n",
      "Epoch 5/10\n",
      "1/1 [==============================] - ETA: 0s - loss: 144.2072 - root_mean_squared_error: 12.0086WARNING:tensorflow:Can save best model only with val_acc available, skipping.\n",
      "1/1 [==============================] - 0s 2ms/step - loss: 144.2072 - root_mean_squared_error: 12.0086\n",
      "Epoch 6/10\n",
      "1/1 [==============================] - ETA: 0s - loss: 144.1824 - root_mean_squared_error: 12.0076WARNING:tensorflow:Can save best model only with val_acc available, skipping.\n",
      "1/1 [==============================] - 0s 2ms/step - loss: 144.1824 - root_mean_squared_error: 12.0076\n",
      "Epoch 7/10\n",
      "1/1 [==============================] - ETA: 0s - loss: 144.1575 - root_mean_squared_error: 12.0066WARNING:tensorflow:Can save best model only with val_acc available, skipping.\n",
      "1/1 [==============================] - 0s 2ms/step - loss: 144.1575 - root_mean_squared_error: 12.0066\n",
      "Epoch 8/10\n",
      "1/1 [==============================] - ETA: 0s - loss: 144.1326 - root_mean_squared_error: 12.0055WARNING:tensorflow:Can save best model only with val_acc available, skipping.\n",
      "1/1 [==============================] - 0s 2ms/step - loss: 144.1326 - root_mean_squared_error: 12.0055\n",
      "Epoch 9/10\n",
      "1/1 [==============================] - ETA: 0s - loss: 144.1077 - root_mean_squared_error: 12.0045WARNING:tensorflow:Can save best model only with val_acc available, skipping.\n",
      "1/1 [==============================] - 0s 991us/step - loss: 144.1077 - root_mean_squared_error: 12.0045\n",
      "Epoch 10/10\n",
      "1/1 [==============================] - ETA: 0s - loss: 144.0827 - root_mean_squared_error: 12.0034WARNING:tensorflow:Can save best model only with val_acc available, skipping.\n",
      "1/1 [==============================] - 0s 2ms/step - loss: 144.0827 - root_mean_squared_error: 12.0034\n"
     ]
    },
    {
     "data": {
      "text/plain": "<keras.callbacks.History at 0x1fe502059d0>"
     },
     "execution_count": 22,
     "metadata": {},
     "output_type": "execute_result"
    }
   ],
   "source": [
    "checkpoint_val_acc = ModelCheckpoint(filepath=file_path, save_best_only=True, monitor=\"val_acc\")\n",
    "model2 = Sequential([\n",
    "    Dense(3, activation='relu', input_shape=(28,3))])\n",
    "model2.compile(loss='mse', optimizer=\"adam\", metrics=[tf.keras.metrics.RootMeanSquaredError()])\n",
    "model2.fit(X, y, epochs=10, callbacks=[checkpoint_val_acc])"
   ],
   "metadata": {
    "collapsed": false,
    "pycharm": {
     "name": "#%%\n"
    }
   }
  },
  {
   "cell_type": "code",
   "execution_count": 21,
   "outputs": [
    {
     "data": {
      "text/plain": "TensorShape([28, 28, 3])"
     },
     "execution_count": 21,
     "metadata": {},
     "output_type": "execute_result"
    }
   ],
   "source": [
    "X.shape"
   ],
   "metadata": {
    "collapsed": false,
    "pycharm": {
     "name": "#%%\n"
    }
   }
  },
  {
   "cell_type": "markdown",
   "source": [
    "## Early stopping\n",
    "An early stop is setting a condition upon which training is *terminated earlier than the set limits* (for example, number of epochs).\n",
    "\n",
    "This is generally set to conserve resources and/or prevent overtraining when a goal objective is reached, such as a level of accuracy or convergence on evaluation loss.\n",
    "\n",
    "For example, we might set a training for 20 epochs, which average 30 minutes each, for a total of 10 hours. But if the objective is met after 8 epochs, it would be ideal to terminate the training, saving 6 hours of resources.\n",
    "\n",
    "An early stop is specified in a manner similar to a checkpoint. An EarlyStopping object is instantiated and configured with a target goal, and passed to the callbacks parameter of the fit() method. In this example, training will be stopped early only if the validation loss stops, reducing from the previous epoch:\n",
    "\n",
    "\n",
    "\n",
    "\n",
    "\n",
    "\n"
   ],
   "metadata": {
    "collapsed": false,
    "pycharm": {
     "name": "#%% md\n"
    }
   }
  },
  {
   "cell_type": "code",
   "execution_count": 27,
   "outputs": [
    {
     "name": "stdout",
     "output_type": "stream",
     "text": [
      "Epoch 1/100\n",
      "1/1 [==============================] - ETA: 0s - loss: 144.7578 - root_mean_squared_error: 12.0315WARNING:tensorflow:Can save best model only with val_acc available, skipping.\n",
      "1/1 [==============================] - 0s 175ms/step - loss: 144.7578 - root_mean_squared_error: 12.0315\n",
      "Epoch 2/100\n",
      "1/1 [==============================] - ETA: 0s - loss: 144.7335 - root_mean_squared_error: 12.0305WARNING:tensorflow:Can save best model only with val_acc available, skipping.\n",
      "1/1 [==============================] - 0s 2ms/step - loss: 144.7335 - root_mean_squared_error: 12.0305\n"
     ]
    },
    {
     "data": {
      "text/plain": "<keras.callbacks.History at 0x1fe4cbd7580>"
     },
     "execution_count": 27,
     "metadata": {},
     "output_type": "execute_result"
    }
   ],
   "source": [
    "from keras.callbacks import EarlyStopping\n",
    "early_stop = EarlyStopping(monitor='loss')\n",
    "model3 = Sequential([Dense(3, activation='relu', input_shape=(28,3))])\n",
    "model3.compile(loss='mse', optimizer='adam', metrics=[tf.keras.metrics.RootMeanSquaredError()])\n",
    "model3.fit(X, y, epochs=100, callbacks=[early_stop, checkpoint_val_acc])"
   ],
   "metadata": {
    "collapsed": false,
    "pycharm": {
     "name": "#%%\n"
    }
   }
  },
  {
   "cell_type": "code",
   "execution_count": 28,
   "outputs": [
    {
     "name": "stdout",
     "output_type": "stream",
     "text": [
      "Epoch 1/100\n",
      "1/1 [==============================] - ETA: 0s - loss: 141.0353 - root_mean_squared_error: 11.8758WARNING:tensorflow:Can save best model only with val_acc available, skipping.\n",
      "1/1 [==============================] - 0s 167ms/step - loss: 141.0353 - root_mean_squared_error: 11.8758\n",
      "Epoch 2/100\n",
      "1/1 [==============================] - ETA: 0s - loss: 141.0090 - root_mean_squared_error: 11.8747WARNING:tensorflow:Can save best model only with val_acc available, skipping.\n",
      "1/1 [==============================] - 0s 2ms/step - loss: 141.0090 - root_mean_squared_error: 11.8747\n",
      "Epoch 3/100\n",
      "1/1 [==============================] - ETA: 0s - loss: 140.9826 - root_mean_squared_error: 11.8736WARNING:tensorflow:Can save best model only with val_acc available, skipping.\n",
      "1/1 [==============================] - 0s 2ms/step - loss: 140.9826 - root_mean_squared_error: 11.8736\n",
      "Epoch 4/100\n",
      "1/1 [==============================] - ETA: 0s - loss: 140.9563 - root_mean_squared_error: 11.8725WARNING:tensorflow:Can save best model only with val_acc available, skipping.\n",
      "1/1 [==============================] - 0s 2ms/step - loss: 140.9563 - root_mean_squared_error: 11.8725\n",
      "Epoch 5/100\n",
      "1/1 [==============================] - ETA: 0s - loss: 140.9300 - root_mean_squared_error: 11.8714WARNING:tensorflow:Can save best model only with val_acc available, skipping.\n",
      "1/1 [==============================] - 0s 2ms/step - loss: 140.9300 - root_mean_squared_error: 11.8714\n",
      "Epoch 6/100\n",
      "1/1 [==============================] - ETA: 0s - loss: 140.9037 - root_mean_squared_error: 11.8703WARNING:tensorflow:Can save best model only with val_acc available, skipping.\n",
      "1/1 [==============================] - 0s 2ms/step - loss: 140.9037 - root_mean_squared_error: 11.8703\n",
      "Epoch 7/100\n",
      "1/1 [==============================] - ETA: 0s - loss: 140.8773 - root_mean_squared_error: 11.8692WARNING:tensorflow:Can save best model only with val_acc available, skipping.\n",
      "1/1 [==============================] - 0s 2ms/step - loss: 140.8773 - root_mean_squared_error: 11.8692\n",
      "Epoch 8/100\n",
      "1/1 [==============================] - ETA: 0s - loss: 140.8510 - root_mean_squared_error: 11.8681WARNING:tensorflow:Can save best model only with val_acc available, skipping.\n",
      "1/1 [==============================] - 0s 2ms/step - loss: 140.8510 - root_mean_squared_error: 11.8681\n",
      "Epoch 9/100\n",
      "1/1 [==============================] - ETA: 0s - loss: 140.8247 - root_mean_squared_error: 11.8670WARNING:tensorflow:Can save best model only with val_acc available, skipping.\n",
      "1/1 [==============================] - 0s 2ms/step - loss: 140.8247 - root_mean_squared_error: 11.8670\n",
      "Epoch 10/100\n",
      "1/1 [==============================] - ETA: 0s - loss: 140.7984 - root_mean_squared_error: 11.8658WARNING:tensorflow:Can save best model only with val_acc available, skipping.\n",
      "1/1 [==============================] - 0s 2ms/step - loss: 140.7984 - root_mean_squared_error: 11.8658\n",
      "Epoch 11/100\n",
      "1/1 [==============================] - ETA: 0s - loss: 140.7720 - root_mean_squared_error: 11.8647WARNING:tensorflow:Can save best model only with val_acc available, skipping.\n",
      "1/1 [==============================] - 0s 2ms/step - loss: 140.7720 - root_mean_squared_error: 11.8647\n",
      "Epoch 12/100\n",
      "1/1 [==============================] - ETA: 0s - loss: 140.7457 - root_mean_squared_error: 11.8636WARNING:tensorflow:Can save best model only with val_acc available, skipping.\n",
      "1/1 [==============================] - 0s 1ms/step - loss: 140.7457 - root_mean_squared_error: 11.8636\n",
      "Epoch 13/100\n",
      "1/1 [==============================] - ETA: 0s - loss: 140.7193 - root_mean_squared_error: 11.8625WARNING:tensorflow:Can save best model only with val_acc available, skipping.\n",
      "1/1 [==============================] - 0s 2ms/step - loss: 140.7193 - root_mean_squared_error: 11.8625\n",
      "Epoch 14/100\n",
      "1/1 [==============================] - ETA: 0s - loss: 140.6929 - root_mean_squared_error: 11.8614WARNING:tensorflow:Can save best model only with val_acc available, skipping.\n",
      "1/1 [==============================] - 0s 2ms/step - loss: 140.6929 - root_mean_squared_error: 11.8614\n",
      "Epoch 15/100\n",
      "1/1 [==============================] - ETA: 0s - loss: 140.6666 - root_mean_squared_error: 11.8603WARNING:tensorflow:Can save best model only with val_acc available, skipping.\n",
      "1/1 [==============================] - 0s 2ms/step - loss: 140.6666 - root_mean_squared_error: 11.8603\n",
      "Epoch 16/100\n",
      "1/1 [==============================] - ETA: 0s - loss: 140.6402 - root_mean_squared_error: 11.8592WARNING:tensorflow:Can save best model only with val_acc available, skipping.\n",
      "1/1 [==============================] - 0s 2ms/step - loss: 140.6402 - root_mean_squared_error: 11.8592\n",
      "Epoch 17/100\n",
      "1/1 [==============================] - ETA: 0s - loss: 140.6139 - root_mean_squared_error: 11.8581WARNING:tensorflow:Can save best model only with val_acc available, skipping.\n",
      "1/1 [==============================] - 0s 2ms/step - loss: 140.6139 - root_mean_squared_error: 11.8581\n",
      "Epoch 18/100\n",
      "1/1 [==============================] - ETA: 0s - loss: 140.5875 - root_mean_squared_error: 11.8570WARNING:tensorflow:Can save best model only with val_acc available, skipping.\n",
      "1/1 [==============================] - 0s 1ms/step - loss: 140.5875 - root_mean_squared_error: 11.8570\n",
      "Epoch 19/100\n",
      "1/1 [==============================] - ETA: 0s - loss: 140.5611 - root_mean_squared_error: 11.8558WARNING:tensorflow:Can save best model only with val_acc available, skipping.\n",
      "1/1 [==============================] - 0s 2ms/step - loss: 140.5611 - root_mean_squared_error: 11.8558\n",
      "Epoch 20/100\n",
      "1/1 [==============================] - ETA: 0s - loss: 140.5348 - root_mean_squared_error: 11.8547WARNING:tensorflow:Can save best model only with val_acc available, skipping.\n",
      "1/1 [==============================] - 0s 2ms/step - loss: 140.5348 - root_mean_squared_error: 11.8547\n",
      "Epoch 21/100\n",
      "1/1 [==============================] - ETA: 0s - loss: 140.5084 - root_mean_squared_error: 11.8536WARNING:tensorflow:Can save best model only with val_acc available, skipping.\n",
      "1/1 [==============================] - 0s 2ms/step - loss: 140.5084 - root_mean_squared_error: 11.8536\n",
      "Epoch 22/100\n",
      "1/1 [==============================] - ETA: 0s - loss: 140.4821 - root_mean_squared_error: 11.8525WARNING:tensorflow:Can save best model only with val_acc available, skipping.\n",
      "1/1 [==============================] - 0s 2ms/step - loss: 140.4821 - root_mean_squared_error: 11.8525\n",
      "Epoch 23/100\n",
      "1/1 [==============================] - ETA: 0s - loss: 140.4557 - root_mean_squared_error: 11.8514WARNING:tensorflow:Can save best model only with val_acc available, skipping.\n",
      "1/1 [==============================] - 0s 3ms/step - loss: 140.4557 - root_mean_squared_error: 11.8514\n",
      "Epoch 24/100\n",
      "1/1 [==============================] - ETA: 0s - loss: 140.4294 - root_mean_squared_error: 11.8503WARNING:tensorflow:Can save best model only with val_acc available, skipping.\n",
      "1/1 [==============================] - 0s 2ms/step - loss: 140.4294 - root_mean_squared_error: 11.8503\n",
      "Epoch 25/100\n",
      "1/1 [==============================] - ETA: 0s - loss: 140.4030 - root_mean_squared_error: 11.8492WARNING:tensorflow:Can save best model only with val_acc available, skipping.\n",
      "1/1 [==============================] - 0s 2ms/step - loss: 140.4030 - root_mean_squared_error: 11.8492\n",
      "Epoch 26/100\n",
      "1/1 [==============================] - ETA: 0s - loss: 140.3766 - root_mean_squared_error: 11.8481WARNING:tensorflow:Can save best model only with val_acc available, skipping.\n",
      "1/1 [==============================] - 0s 2ms/step - loss: 140.3766 - root_mean_squared_error: 11.8481\n",
      "Epoch 27/100\n",
      "1/1 [==============================] - ETA: 0s - loss: 140.3503 - root_mean_squared_error: 11.8470WARNING:tensorflow:Can save best model only with val_acc available, skipping.\n",
      "1/1 [==============================] - 0s 2ms/step - loss: 140.3503 - root_mean_squared_error: 11.8470\n",
      "Epoch 28/100\n",
      "1/1 [==============================] - ETA: 0s - loss: 140.3239 - root_mean_squared_error: 11.8458WARNING:tensorflow:Can save best model only with val_acc available, skipping.\n",
      "1/1 [==============================] - 0s 2ms/step - loss: 140.3239 - root_mean_squared_error: 11.8458\n",
      "Epoch 29/100\n",
      "1/1 [==============================] - ETA: 0s - loss: 140.2975 - root_mean_squared_error: 11.8447WARNING:tensorflow:Can save best model only with val_acc available, skipping.\n",
      "1/1 [==============================] - 0s 2ms/step - loss: 140.2975 - root_mean_squared_error: 11.8447\n",
      "Epoch 30/100\n",
      "1/1 [==============================] - ETA: 0s - loss: 140.2711 - root_mean_squared_error: 11.8436WARNING:tensorflow:Can save best model only with val_acc available, skipping.\n",
      "1/1 [==============================] - 0s 2ms/step - loss: 140.2711 - root_mean_squared_error: 11.8436\n",
      "Epoch 31/100\n",
      "1/1 [==============================] - ETA: 0s - loss: 140.2446 - root_mean_squared_error: 11.8425WARNING:tensorflow:Can save best model only with val_acc available, skipping.\n",
      "1/1 [==============================] - 0s 2ms/step - loss: 140.2446 - root_mean_squared_error: 11.8425\n",
      "Epoch 32/100\n",
      "1/1 [==============================] - ETA: 0s - loss: 140.2182 - root_mean_squared_error: 11.8414WARNING:tensorflow:Can save best model only with val_acc available, skipping.\n",
      "1/1 [==============================] - 0s 2ms/step - loss: 140.2182 - root_mean_squared_error: 11.8414\n",
      "Epoch 33/100\n",
      "1/1 [==============================] - ETA: 0s - loss: 140.1917 - root_mean_squared_error: 11.8403WARNING:tensorflow:Can save best model only with val_acc available, skipping.\n",
      "1/1 [==============================] - 0s 3ms/step - loss: 140.1917 - root_mean_squared_error: 11.8403\n",
      "Epoch 34/100\n",
      "1/1 [==============================] - ETA: 0s - loss: 140.1652 - root_mean_squared_error: 11.8391WARNING:tensorflow:Can save best model only with val_acc available, skipping.\n",
      "1/1 [==============================] - 0s 4ms/step - loss: 140.1652 - root_mean_squared_error: 11.8391\n",
      "Epoch 35/100\n",
      "1/1 [==============================] - ETA: 0s - loss: 140.1387 - root_mean_squared_error: 11.8380WARNING:tensorflow:Can save best model only with val_acc available, skipping.\n",
      "1/1 [==============================] - 0s 4ms/step - loss: 140.1387 - root_mean_squared_error: 11.8380\n",
      "Epoch 36/100\n",
      "1/1 [==============================] - ETA: 0s - loss: 140.1122 - root_mean_squared_error: 11.8369WARNING:tensorflow:Can save best model only with val_acc available, skipping.\n",
      "1/1 [==============================] - 0s 3ms/step - loss: 140.1122 - root_mean_squared_error: 11.8369\n",
      "Epoch 37/100\n",
      "1/1 [==============================] - ETA: 0s - loss: 140.0857 - root_mean_squared_error: 11.8358WARNING:tensorflow:Can save best model only with val_acc available, skipping.\n",
      "1/1 [==============================] - 0s 3ms/step - loss: 140.0857 - root_mean_squared_error: 11.8358\n",
      "Epoch 38/100\n",
      "1/1 [==============================] - ETA: 0s - loss: 140.0592 - root_mean_squared_error: 11.8347WARNING:tensorflow:Can save best model only with val_acc available, skipping.\n",
      "1/1 [==============================] - 0s 3ms/step - loss: 140.0592 - root_mean_squared_error: 11.8347\n",
      "Epoch 39/100\n",
      "1/1 [==============================] - ETA: 0s - loss: 140.0327 - root_mean_squared_error: 11.8335WARNING:tensorflow:Can save best model only with val_acc available, skipping.\n",
      "1/1 [==============================] - 0s 3ms/step - loss: 140.0327 - root_mean_squared_error: 11.8335\n",
      "Epoch 40/100\n",
      "1/1 [==============================] - ETA: 0s - loss: 140.0061 - root_mean_squared_error: 11.8324WARNING:tensorflow:Can save best model only with val_acc available, skipping.\n",
      "1/1 [==============================] - 0s 3ms/step - loss: 140.0061 - root_mean_squared_error: 11.8324\n",
      "Epoch 41/100\n",
      "1/1 [==============================] - ETA: 0s - loss: 139.9796 - root_mean_squared_error: 11.8313WARNING:tensorflow:Can save best model only with val_acc available, skipping.\n",
      "1/1 [==============================] - 0s 4ms/step - loss: 139.9796 - root_mean_squared_error: 11.8313\n",
      "Epoch 42/100\n",
      "1/1 [==============================] - ETA: 0s - loss: 139.9531 - root_mean_squared_error: 11.8302WARNING:tensorflow:Can save best model only with val_acc available, skipping.\n",
      "1/1 [==============================] - 0s 2ms/step - loss: 139.9531 - root_mean_squared_error: 11.8302\n",
      "Epoch 43/100\n",
      "1/1 [==============================] - ETA: 0s - loss: 139.9266 - root_mean_squared_error: 11.8291WARNING:tensorflow:Can save best model only with val_acc available, skipping.\n",
      "1/1 [==============================] - 0s 3ms/step - loss: 139.9266 - root_mean_squared_error: 11.8291\n",
      "Epoch 44/100\n",
      "1/1 [==============================] - ETA: 0s - loss: 139.9001 - root_mean_squared_error: 11.8279WARNING:tensorflow:Can save best model only with val_acc available, skipping.\n",
      "1/1 [==============================] - 0s 2ms/step - loss: 139.9001 - root_mean_squared_error: 11.8279\n",
      "Epoch 45/100\n",
      "1/1 [==============================] - ETA: 0s - loss: 139.8736 - root_mean_squared_error: 11.8268WARNING:tensorflow:Can save best model only with val_acc available, skipping.\n",
      "1/1 [==============================] - 0s 2ms/step - loss: 139.8736 - root_mean_squared_error: 11.8268\n",
      "Epoch 46/100\n",
      "1/1 [==============================] - ETA: 0s - loss: 139.8471 - root_mean_squared_error: 11.8257WARNING:tensorflow:Can save best model only with val_acc available, skipping.\n",
      "1/1 [==============================] - 0s 3ms/step - loss: 139.8471 - root_mean_squared_error: 11.8257\n",
      "Epoch 47/100\n",
      "1/1 [==============================] - ETA: 0s - loss: 139.8206 - root_mean_squared_error: 11.8246WARNING:tensorflow:Can save best model only with val_acc available, skipping.\n",
      "1/1 [==============================] - 0s 2ms/step - loss: 139.8206 - root_mean_squared_error: 11.8246\n",
      "Epoch 48/100\n",
      "1/1 [==============================] - ETA: 0s - loss: 139.7941 - root_mean_squared_error: 11.8235WARNING:tensorflow:Can save best model only with val_acc available, skipping.\n",
      "1/1 [==============================] - 0s 2ms/step - loss: 139.7941 - root_mean_squared_error: 11.8235\n",
      "Epoch 49/100\n",
      "1/1 [==============================] - ETA: 0s - loss: 139.7675 - root_mean_squared_error: 11.8223WARNING:tensorflow:Can save best model only with val_acc available, skipping.\n",
      "1/1 [==============================] - 0s 2ms/step - loss: 139.7675 - root_mean_squared_error: 11.8223\n",
      "Epoch 50/100\n",
      "1/1 [==============================] - ETA: 0s - loss: 139.7410 - root_mean_squared_error: 11.8212WARNING:tensorflow:Can save best model only with val_acc available, skipping.\n",
      "1/1 [==============================] - 0s 2ms/step - loss: 139.7410 - root_mean_squared_error: 11.8212\n",
      "Epoch 51/100\n",
      "1/1 [==============================] - ETA: 0s - loss: 139.7145 - root_mean_squared_error: 11.8201WARNING:tensorflow:Can save best model only with val_acc available, skipping.\n",
      "1/1 [==============================] - 0s 2ms/step - loss: 139.7145 - root_mean_squared_error: 11.8201\n",
      "Epoch 52/100\n",
      "1/1 [==============================] - ETA: 0s - loss: 139.6879 - root_mean_squared_error: 11.8190WARNING:tensorflow:Can save best model only with val_acc available, skipping.\n",
      "1/1 [==============================] - 0s 2ms/step - loss: 139.6879 - root_mean_squared_error: 11.8190\n",
      "Epoch 53/100\n",
      "1/1 [==============================] - ETA: 0s - loss: 139.6614 - root_mean_squared_error: 11.8178WARNING:tensorflow:Can save best model only with val_acc available, skipping.\n",
      "1/1 [==============================] - 0s 1000us/step - loss: 139.6614 - root_mean_squared_error: 11.8178\n",
      "Epoch 54/100\n",
      "1/1 [==============================] - ETA: 0s - loss: 139.6349 - root_mean_squared_error: 11.8167WARNING:tensorflow:Can save best model only with val_acc available, skipping.\n",
      "1/1 [==============================] - 0s 2ms/step - loss: 139.6349 - root_mean_squared_error: 11.8167\n",
      "Epoch 55/100\n",
      "1/1 [==============================] - ETA: 0s - loss: 139.6083 - root_mean_squared_error: 11.8156WARNING:tensorflow:Can save best model only with val_acc available, skipping.\n",
      "1/1 [==============================] - 0s 2ms/step - loss: 139.6083 - root_mean_squared_error: 11.8156\n",
      "Epoch 56/100\n",
      "1/1 [==============================] - ETA: 0s - loss: 139.5818 - root_mean_squared_error: 11.8145WARNING:tensorflow:Can save best model only with val_acc available, skipping.\n",
      "1/1 [==============================] - 0s 2ms/step - loss: 139.5818 - root_mean_squared_error: 11.8145\n",
      "Epoch 57/100\n",
      "1/1 [==============================] - ETA: 0s - loss: 139.5553 - root_mean_squared_error: 11.8134WARNING:tensorflow:Can save best model only with val_acc available, skipping.\n",
      "1/1 [==============================] - 0s 2ms/step - loss: 139.5553 - root_mean_squared_error: 11.8134\n",
      "Epoch 58/100\n",
      "1/1 [==============================] - ETA: 0s - loss: 139.5288 - root_mean_squared_error: 11.8122WARNING:tensorflow:Can save best model only with val_acc available, skipping.\n",
      "1/1 [==============================] - 0s 999us/step - loss: 139.5288 - root_mean_squared_error: 11.8122\n",
      "Epoch 59/100\n",
      "1/1 [==============================] - ETA: 0s - loss: 139.5023 - root_mean_squared_error: 11.8111WARNING:tensorflow:Can save best model only with val_acc available, skipping.\n",
      "1/1 [==============================] - 0s 2ms/step - loss: 139.5023 - root_mean_squared_error: 11.8111\n",
      "Epoch 60/100\n",
      "1/1 [==============================] - ETA: 0s - loss: 139.4758 - root_mean_squared_error: 11.8100WARNING:tensorflow:Can save best model only with val_acc available, skipping.\n",
      "1/1 [==============================] - 0s 2ms/step - loss: 139.4758 - root_mean_squared_error: 11.8100\n",
      "Epoch 61/100\n",
      "1/1 [==============================] - ETA: 0s - loss: 139.4493 - root_mean_squared_error: 11.8089WARNING:tensorflow:Can save best model only with val_acc available, skipping.\n",
      "1/1 [==============================] - 0s 3ms/step - loss: 139.4493 - root_mean_squared_error: 11.8089\n",
      "Epoch 62/100\n",
      "1/1 [==============================] - ETA: 0s - loss: 139.4228 - root_mean_squared_error: 11.8077WARNING:tensorflow:Can save best model only with val_acc available, skipping.\n",
      "1/1 [==============================] - 0s 3ms/step - loss: 139.4228 - root_mean_squared_error: 11.8077\n",
      "Epoch 63/100\n",
      "1/1 [==============================] - ETA: 0s - loss: 139.3963 - root_mean_squared_error: 11.8066WARNING:tensorflow:Can save best model only with val_acc available, skipping.\n",
      "1/1 [==============================] - 0s 1ms/step - loss: 139.3963 - root_mean_squared_error: 11.8066\n",
      "Epoch 64/100\n",
      "1/1 [==============================] - ETA: 0s - loss: 139.3698 - root_mean_squared_error: 11.8055WARNING:tensorflow:Can save best model only with val_acc available, skipping.\n",
      "1/1 [==============================] - 0s 2ms/step - loss: 139.3698 - root_mean_squared_error: 11.8055\n",
      "Epoch 65/100\n",
      "1/1 [==============================] - ETA: 0s - loss: 139.3433 - root_mean_squared_error: 11.8044WARNING:tensorflow:Can save best model only with val_acc available, skipping.\n",
      "1/1 [==============================] - 0s 3ms/step - loss: 139.3433 - root_mean_squared_error: 11.8044\n",
      "Epoch 66/100\n",
      "1/1 [==============================] - ETA: 0s - loss: 139.3168 - root_mean_squared_error: 11.8033WARNING:tensorflow:Can save best model only with val_acc available, skipping.\n",
      "1/1 [==============================] - 0s 2ms/step - loss: 139.3168 - root_mean_squared_error: 11.8033\n",
      "Epoch 67/100\n",
      "1/1 [==============================] - ETA: 0s - loss: 139.2902 - root_mean_squared_error: 11.8021WARNING:tensorflow:Can save best model only with val_acc available, skipping.\n",
      "1/1 [==============================] - 0s 2ms/step - loss: 139.2902 - root_mean_squared_error: 11.8021\n",
      "Epoch 68/100\n",
      "1/1 [==============================] - ETA: 0s - loss: 139.2637 - root_mean_squared_error: 11.8010WARNING:tensorflow:Can save best model only with val_acc available, skipping.\n",
      "1/1 [==============================] - 0s 2ms/step - loss: 139.2637 - root_mean_squared_error: 11.8010\n",
      "Epoch 69/100\n",
      "1/1 [==============================] - ETA: 0s - loss: 139.2372 - root_mean_squared_error: 11.7999WARNING:tensorflow:Can save best model only with val_acc available, skipping.\n",
      "1/1 [==============================] - 0s 2ms/step - loss: 139.2372 - root_mean_squared_error: 11.7999\n",
      "Epoch 70/100\n",
      "1/1 [==============================] - ETA: 0s - loss: 139.2107 - root_mean_squared_error: 11.7988WARNING:tensorflow:Can save best model only with val_acc available, skipping.\n",
      "1/1 [==============================] - 0s 3ms/step - loss: 139.2107 - root_mean_squared_error: 11.7988\n",
      "Epoch 71/100\n",
      "1/1 [==============================] - ETA: 0s - loss: 139.1842 - root_mean_squared_error: 11.7976WARNING:tensorflow:Can save best model only with val_acc available, skipping.\n",
      "1/1 [==============================] - 0s 2ms/step - loss: 139.1842 - root_mean_squared_error: 11.7976\n",
      "Epoch 72/100\n",
      "1/1 [==============================] - ETA: 0s - loss: 139.1576 - root_mean_squared_error: 11.7965WARNING:tensorflow:Can save best model only with val_acc available, skipping.\n",
      "1/1 [==============================] - 0s 2ms/step - loss: 139.1576 - root_mean_squared_error: 11.7965\n",
      "Epoch 73/100\n",
      "1/1 [==============================] - ETA: 0s - loss: 139.1311 - root_mean_squared_error: 11.7954WARNING:tensorflow:Can save best model only with val_acc available, skipping.\n",
      "1/1 [==============================] - 0s 2ms/step - loss: 139.1311 - root_mean_squared_error: 11.7954\n",
      "Epoch 74/100\n",
      "1/1 [==============================] - ETA: 0s - loss: 139.1046 - root_mean_squared_error: 11.7943WARNING:tensorflow:Can save best model only with val_acc available, skipping.\n",
      "1/1 [==============================] - 0s 2ms/step - loss: 139.1046 - root_mean_squared_error: 11.7943\n",
      "Epoch 75/100\n",
      "1/1 [==============================] - ETA: 0s - loss: 139.0781 - root_mean_squared_error: 11.7931WARNING:tensorflow:Can save best model only with val_acc available, skipping.\n",
      "1/1 [==============================] - 0s 2ms/step - loss: 139.0781 - root_mean_squared_error: 11.7931\n",
      "Epoch 76/100\n",
      "1/1 [==============================] - ETA: 0s - loss: 139.0515 - root_mean_squared_error: 11.7920WARNING:tensorflow:Can save best model only with val_acc available, skipping.\n",
      "1/1 [==============================] - 0s 2ms/step - loss: 139.0515 - root_mean_squared_error: 11.7920\n",
      "Epoch 77/100\n",
      "1/1 [==============================] - ETA: 0s - loss: 139.0250 - root_mean_squared_error: 11.7909WARNING:tensorflow:Can save best model only with val_acc available, skipping.\n",
      "1/1 [==============================] - 0s 3ms/step - loss: 139.0250 - root_mean_squared_error: 11.7909\n",
      "Epoch 78/100\n",
      "1/1 [==============================] - ETA: 0s - loss: 138.9985 - root_mean_squared_error: 11.7898WARNING:tensorflow:Can save best model only with val_acc available, skipping.\n",
      "1/1 [==============================] - 0s 2ms/step - loss: 138.9985 - root_mean_squared_error: 11.7898\n",
      "Epoch 79/100\n",
      "1/1 [==============================] - ETA: 0s - loss: 138.9720 - root_mean_squared_error: 11.7886WARNING:tensorflow:Can save best model only with val_acc available, skipping.\n",
      "1/1 [==============================] - 0s 2ms/step - loss: 138.9720 - root_mean_squared_error: 11.7886\n",
      "Epoch 80/100\n",
      "1/1 [==============================] - ETA: 0s - loss: 138.9455 - root_mean_squared_error: 11.7875WARNING:tensorflow:Can save best model only with val_acc available, skipping.\n",
      "1/1 [==============================] - 0s 3ms/step - loss: 138.9455 - root_mean_squared_error: 11.7875\n",
      "Epoch 81/100\n",
      "1/1 [==============================] - ETA: 0s - loss: 138.9189 - root_mean_squared_error: 11.7864WARNING:tensorflow:Can save best model only with val_acc available, skipping.\n",
      "1/1 [==============================] - 0s 2ms/step - loss: 138.9189 - root_mean_squared_error: 11.7864\n",
      "Epoch 82/100\n",
      "1/1 [==============================] - ETA: 0s - loss: 138.8924 - root_mean_squared_error: 11.7853WARNING:tensorflow:Can save best model only with val_acc available, skipping.\n",
      "1/1 [==============================] - 0s 1ms/step - loss: 138.8924 - root_mean_squared_error: 11.7853\n",
      "Epoch 83/100\n",
      "1/1 [==============================] - ETA: 0s - loss: 138.8659 - root_mean_squared_error: 11.7841WARNING:tensorflow:Can save best model only with val_acc available, skipping.\n",
      "1/1 [==============================] - 0s 2ms/step - loss: 138.8659 - root_mean_squared_error: 11.7841\n",
      "Epoch 84/100\n",
      "1/1 [==============================] - ETA: 0s - loss: 138.8394 - root_mean_squared_error: 11.7830WARNING:tensorflow:Can save best model only with val_acc available, skipping.\n",
      "1/1 [==============================] - 0s 2ms/step - loss: 138.8394 - root_mean_squared_error: 11.7830\n",
      "Epoch 85/100\n",
      "1/1 [==============================] - ETA: 0s - loss: 138.8129 - root_mean_squared_error: 11.7819WARNING:tensorflow:Can save best model only with val_acc available, skipping.\n",
      "1/1 [==============================] - 0s 2ms/step - loss: 138.8129 - root_mean_squared_error: 11.7819\n",
      "Epoch 86/100\n",
      "1/1 [==============================] - ETA: 0s - loss: 138.7864 - root_mean_squared_error: 11.7808WARNING:tensorflow:Can save best model only with val_acc available, skipping.\n",
      "1/1 [==============================] - 0s 2ms/step - loss: 138.7864 - root_mean_squared_error: 11.7808\n",
      "Epoch 87/100\n",
      "1/1 [==============================] - ETA: 0s - loss: 138.7599 - root_mean_squared_error: 11.7796WARNING:tensorflow:Can save best model only with val_acc available, skipping.\n",
      "1/1 [==============================] - 0s 2ms/step - loss: 138.7599 - root_mean_squared_error: 11.7796\n",
      "Epoch 88/100\n",
      "1/1 [==============================] - ETA: 0s - loss: 138.7334 - root_mean_squared_error: 11.7785WARNING:tensorflow:Can save best model only with val_acc available, skipping.\n",
      "1/1 [==============================] - 0s 2ms/step - loss: 138.7334 - root_mean_squared_error: 11.7785\n",
      "Epoch 89/100\n",
      "1/1 [==============================] - ETA: 0s - loss: 138.7068 - root_mean_squared_error: 11.7774WARNING:tensorflow:Can save best model only with val_acc available, skipping.\n",
      "1/1 [==============================] - 0s 2ms/step - loss: 138.7068 - root_mean_squared_error: 11.7774\n",
      "Epoch 90/100\n",
      "1/1 [==============================] - ETA: 0s - loss: 138.6803 - root_mean_squared_error: 11.7763WARNING:tensorflow:Can save best model only with val_acc available, skipping.\n",
      "1/1 [==============================] - 0s 2ms/step - loss: 138.6803 - root_mean_squared_error: 11.7763\n",
      "Epoch 91/100\n",
      "1/1 [==============================] - ETA: 0s - loss: 138.6539 - root_mean_squared_error: 11.7751WARNING:tensorflow:Can save best model only with val_acc available, skipping.\n",
      "1/1 [==============================] - 0s 2ms/step - loss: 138.6539 - root_mean_squared_error: 11.7751\n",
      "Epoch 92/100\n",
      "1/1 [==============================] - ETA: 0s - loss: 138.6273 - root_mean_squared_error: 11.7740WARNING:tensorflow:Can save best model only with val_acc available, skipping.\n",
      "1/1 [==============================] - 0s 3ms/step - loss: 138.6273 - root_mean_squared_error: 11.7740\n",
      "Epoch 93/100\n",
      "1/1 [==============================] - ETA: 0s - loss: 138.6008 - root_mean_squared_error: 11.7729WARNING:tensorflow:Can save best model only with val_acc available, skipping.\n",
      "1/1 [==============================] - 0s 2ms/step - loss: 138.6008 - root_mean_squared_error: 11.7729\n",
      "Epoch 94/100\n",
      "1/1 [==============================] - ETA: 0s - loss: 138.5743 - root_mean_squared_error: 11.7718WARNING:tensorflow:Can save best model only with val_acc available, skipping.\n",
      "1/1 [==============================] - 0s 2ms/step - loss: 138.5743 - root_mean_squared_error: 11.7718\n",
      "Epoch 95/100\n",
      "1/1 [==============================] - ETA: 0s - loss: 138.5478 - root_mean_squared_error: 11.7706WARNING:tensorflow:Can save best model only with val_acc available, skipping.\n",
      "1/1 [==============================] - 0s 2ms/step - loss: 138.5478 - root_mean_squared_error: 11.7706\n",
      "Epoch 96/100\n",
      "1/1 [==============================] - ETA: 0s - loss: 138.5213 - root_mean_squared_error: 11.7695WARNING:tensorflow:Can save best model only with val_acc available, skipping.\n",
      "1/1 [==============================] - 0s 2ms/step - loss: 138.5213 - root_mean_squared_error: 11.7695\n",
      "Epoch 97/100\n",
      "1/1 [==============================] - ETA: 0s - loss: 138.4948 - root_mean_squared_error: 11.7684WARNING:tensorflow:Can save best model only with val_acc available, skipping.\n",
      "1/1 [==============================] - 0s 2ms/step - loss: 138.4948 - root_mean_squared_error: 11.7684\n",
      "Epoch 98/100\n",
      "1/1 [==============================] - ETA: 0s - loss: 138.4683 - root_mean_squared_error: 11.7673WARNING:tensorflow:Can save best model only with val_acc available, skipping.\n",
      "1/1 [==============================] - 0s 2ms/step - loss: 138.4683 - root_mean_squared_error: 11.7673\n",
      "Epoch 99/100\n",
      "1/1 [==============================] - ETA: 0s - loss: 138.4418 - root_mean_squared_error: 11.7661WARNING:tensorflow:Can save best model only with val_acc available, skipping.\n",
      "1/1 [==============================] - 0s 2ms/step - loss: 138.4418 - root_mean_squared_error: 11.7661\n",
      "Epoch 100/100\n",
      "1/1 [==============================] - ETA: 0s - loss: 138.4153 - root_mean_squared_error: 11.7650WARNING:tensorflow:Can save best model only with val_acc available, skipping.\n",
      "1/1 [==============================] - 0s 2ms/step - loss: 138.4153 - root_mean_squared_error: 11.7650\n"
     ]
    },
    {
     "data": {
      "text/plain": "<keras.callbacks.History at 0x1fe4de12e80>"
     },
     "execution_count": 28,
     "metadata": {},
     "output_type": "execute_result"
    }
   ],
   "source": [
    "early_stop = EarlyStopping(monitor='loss',  patience=3)\n",
    "model4 = Sequential([Dense(3, activation='relu', input_shape=(28,3))])\n",
    "model4.compile(loss='mse', optimizer='adam', metrics=[tf.keras.metrics.RootMeanSquaredError()])\n",
    "model4.fit(X, y, epochs=100, callbacks=[early_stop, checkpoint_val_acc])"
   ],
   "metadata": {
    "collapsed": false,
    "pycharm": {
     "name": "#%%\n"
    }
   }
  },
  {
   "cell_type": "markdown",
   "source": [
    "<img src=\"img_10.png\" />"
   ],
   "metadata": {
    "collapsed": false,
    "pycharm": {
     "name": "#%% md\n"
    }
   }
  },
  {
   "cell_type": "markdown",
   "source": [
    "<img src=\"img_11.png\" />"
   ],
   "metadata": {
    "collapsed": false,
    "pycharm": {
     "name": "#%% md\n"
    }
   }
  },
  {
   "cell_type": "markdown",
   "source": [
    "The parameter:\n",
    " 1. *patience* specifies a minimum number of epochs without improvement before early stopping, and\n",
    " 2. *min_delta* specifies a minimum threshold to determine whether the model improved."
   ],
   "metadata": {
    "collapsed": false,
    "pycharm": {
     "name": "#%% md\n"
    }
   }
  }
 ],
 "metadata": {
  "kernelspec": {
   "display_name": "Python 3",
   "language": "python",
   "name": "python3"
  },
  "language_info": {
   "codemirror_mode": {
    "name": "ipython",
    "version": 2
   },
   "file_extension": ".py",
   "mimetype": "text/x-python",
   "name": "python",
   "nbconvert_exporter": "python",
   "pygments_lexer": "ipython2",
   "version": "2.7.6"
  }
 },
 "nbformat": 4,
 "nbformat_minor": 0
}