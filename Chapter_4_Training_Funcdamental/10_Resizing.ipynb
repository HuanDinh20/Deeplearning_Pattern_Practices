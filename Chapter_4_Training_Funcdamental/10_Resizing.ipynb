{
 "cells": [
  {
   "cell_type": "markdown",
   "source": [
    "# Resizing\n",
    "\n",
    "So far, you’ve seen how to read in the image from the disk, get the label, and then set the number of channels to match the number of channels in the input shape of the\n",
    "CNN. Next, we need to resize the height and width of the image to finalize matching the input shape for feeding images during training.\n"
   ],
   "metadata": {
    "collapsed": false,
    "pycharm": {
     "name": "#%% md\n"
    }
   }
  },
  {
   "cell_type": "code",
   "execution_count": 1,
   "outputs": [],
   "source": [
    "import PIL.Image\n",
    "import cv2\n",
    "from PIL import Image\n",
    "import os\n",
    "import numpy as np"
   ],
   "metadata": {
    "collapsed": false,
    "pycharm": {
     "name": "#%%\n"
    }
   }
  },
  {
   "cell_type": "code",
   "execution_count": 2,
   "outputs": [],
   "source": [
    "def loadImages(subdir, channels, shape):\n",
    "    \"\"\"To minimize the effect when downsizing,\n",
    "    it is a common practice to use the anti-aliasing algorithm in PIL.\"\"\"\n",
    "    images = []\n",
    "    files = os.scandir(subdir)\n",
    "    for file in files:\n",
    "        image = Image.open(file)\n",
    "        if channels == 1:\n",
    "            image = image.convert(\"L\")\n",
    "        else:\n",
    "            image = image.convert(\"RGB\")\n",
    "        image = image.resize(shape, PIL.Image.ANTIALIAS)\n",
    "        images.append(image)\n",
    "    return np.asarray(images)"
   ],
   "metadata": {
    "collapsed": false,
    "pycharm": {
     "name": "#%%\n"
    }
   }
  },
  {
   "cell_type": "markdown",
   "source": [],
   "metadata": {
    "collapsed": false,
    "pycharm": {
     "name": "#%% md\n"
    }
   }
  },
  {
   "cell_type": "markdown",
   "source": [
    "Let’s now repeat the preceding steps by using OpenCV. An image is read into memory by using the cv2.imread() method. One of the first advantages I find with this\n",
    "method is that the output is already in a multidimensional NumPy data type"
   ],
   "metadata": {
    "collapsed": false,
    "pycharm": {
     "name": "#%% md\n"
    }
   }
  },
  {
   "cell_type": "raw",
   "source": [
    "Another advantage of OpenCV over PIL is that you can do the channel conversion at the time of reading in the image, instead of a second step. By default, cv2.imread()\n",
    "will convert the image to a three-channel RGB image. You can specify a second parameter that indicates which channel conversion to use. In the following example, we are\n",
    "doing the channel conversion at the time the image is read in:"
   ],
   "metadata": {
    "collapsed": false,
    "pycharm": {
     "name": "#%% raw\n"
    }
   }
  },
  {
   "cell_type": "code",
   "execution_count": 4,
   "outputs": [],
   "source": [
    "import requests\n",
    "from io import BytesIO\n",
    "def remote(url, channels):\n",
    "    try:\n",
    "        response = requests.get(url)\n",
    "        if channels == 1:\n",
    "            image = cv2.imdecode(BytesIO(response.content), cv2.IMREAD_GRAYSCALE)\n",
    "        else:\n",
    "            image = cv2.imdecode(BytesIO(response.content), cv2.IMREAD_COLOR)\n",
    "    except:\n",
    "        return None\n"
   ],
   "metadata": {
    "collapsed": false,
    "pycharm": {
     "name": "#%%\n"
    }
   }
  },
  {
   "cell_type": "markdown",
   "source": [
    "Images are resized by using the cv2.resize() method. The second parameter is a tuple of the height and width for the resized image. The optional (keyword) third\n",
    "parameter is the interpolation algorithm to use when resizing. Since in most cases you will be downsampling, a common practice is to use the cv2.INTER_AREA algorithm for\n",
    "best results in preserving information and minimizing artifacts when downsampling an image:"
   ],
   "metadata": {
    "collapsed": false,
    "pycharm": {
     "name": "#%% md\n"
    }
   }
  },
  {
   "cell_type": "code",
   "execution_count": 5,
   "outputs": [],
   "source": [
    "def loadImages(subdir, channels, shape):\n",
    "    \"\"\"INTER_AREA algorithm for best results in preserving information and minimizing artifacts\"\"\"\n",
    "    images = []\n",
    "    files = os.scandir(subdir)\n",
    "    for file in files:\n",
    "        if channels == 1:\n",
    "            image = cv2.imread(file.path, cv2.IMREAD_GRAYSCALE)\n",
    "        else:\n",
    "            image = cv2.imread(file.path, cv2.IMREAD_COLOR)\n",
    "        image = cv2.resize(image, shape, cv2.INTER_AREA)\n",
    "        images.append(image)\n",
    "        return np.asarray(images)"
   ],
   "metadata": {
    "collapsed": false,
    "pycharm": {
     "name": "#%%\n"
    }
   }
  },
  {
   "cell_type": "code",
   "execution_count": null,
   "outputs": [],
   "source": [],
   "metadata": {
    "collapsed": false,
    "pycharm": {
     "name": "#%%\n"
    }
   }
  }
 ],
 "metadata": {
  "kernelspec": {
   "display_name": "Python 3",
   "language": "python",
   "name": "python3"
  },
  "language_info": {
   "codemirror_mode": {
    "name": "ipython",
    "version": 2
   },
   "file_extension": ".py",
   "mimetype": "text/x-python",
   "name": "python",
   "nbconvert_exporter": "python",
   "pygments_lexer": "ipython2",
   "version": "2.7.6"
  }
 },
 "nbformat": 4,
 "nbformat_minor": 0
}