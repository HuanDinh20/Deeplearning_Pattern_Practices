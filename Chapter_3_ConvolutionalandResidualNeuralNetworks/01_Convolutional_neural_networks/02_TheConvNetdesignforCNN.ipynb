{
 "cells": [
  {
   "cell_type": "markdown",
   "source": [
    "# The ConvNet design for a CNN\n"
   ],
   "metadata": {
    "collapsed": false,
    "pycharm": {
     "name": "#%% md\n"
    }
   }
  },
  {
   "cell_type": "markdown",
   "source": [
    "<img src=\"img_7.png\" width=1024>"
   ],
   "metadata": {
    "collapsed": false,
    "pycharm": {
     "name": "#%% md\n"
    }
   }
  },
  {
   "cell_type": "markdown",
   "source": [
    "We start by adding a convolutional layer of 16 filters as the first layer by using the Conv2D class object. Recall that the number of filters equals the number of feature maps that will be generated (in this case, 16). filter size = 3x3, which is specified by the parameter kernel_size, and a stride of 2 by the parameter\n",
    "strides.\n",
    "\n",
    " Note that for strides, a tuple of (2, 2) is specified instead of a single value 2. The first digit is the horizontal stride (across), and the second digit is the vertical stride (down). It’s a common convention for these horizontal and vertical values to be the same; therefore, we commonly say a “stride of 2” instead of “a 2 × 2 stride.”\n",
    "\n",
    "what’s with the 2D part of the name Conv2D? The 2D means that input to the convolutional layer will be a stack of matrices (two-dimensional array).\n",
    "\n",
    "\n",
    "\n",
    "\n",
    "\n"
   ],
   "metadata": {
    "collapsed": false,
    "pycharm": {
     "name": "#%% md\n"
    }
   }
  },
  {
   "cell_type": "code",
   "execution_count": 1,
   "outputs": [],
   "source": [
    "from keras import Model\n",
    "from keras.layers import Conv2D, MaxPooling2D, Flatten, Dense, Input"
   ],
   "metadata": {
    "collapsed": false,
    "pycharm": {
     "name": "#%%\n"
    }
   }
  },
  {
   "cell_type": "code",
   "execution_count": 2,
   "outputs": [
    {
     "name": "stdout",
     "output_type": "stream",
     "text": [
      "Model: \"model\"\n",
      "_________________________________________________________________\n",
      " Layer (type)                Output Shape              Param #   \n",
      "=================================================================\n",
      " input_1 (InputLayer)        [(None, 128, 128, 3)]     0         \n",
      "                                                                 \n",
      " conv2d (Conv2D)             (None, 64, 64, 16)        448       \n",
      "                                                                 \n",
      " max_pooling2d (MaxPooling2D  (None, 32, 32, 16)       0         \n",
      " )                                                               \n",
      "                                                                 \n",
      " flatten (Flatten)           (None, 16384)             0         \n",
      "                                                                 \n",
      " dense (Dense)               (None, 512)               8389120   \n",
      "                                                                 \n",
      " dense_1 (Dense)             (None, 26)                13338     \n",
      "                                                                 \n",
      "=================================================================\n",
      "Total params: 8,402,906\n",
      "Trainable params: 8,402,906\n",
      "Non-trainable params: 0\n",
      "_________________________________________________________________\n"
     ]
    }
   ],
   "source": [
    "conv_net_input = Input((128, 128, 3))\n",
    "X = Conv2D(filters=16, kernel_size=3, strides=2, padding=\"same\")(conv_net_input)\n",
    "X = MaxPooling2D(pool_size=2, strides=2)(X)\n",
    "X = Flatten()(X)\n",
    "X = Dense(512, activation=\"relu\")(X)\n",
    "conv_net_output = Dense(26, activation=\"softmax\")(X)\n",
    "conv_net_model = Model(conv_net_input, conv_net_output)\n",
    "conv_net_model.compile(loss=\"categorical_crossentropy\", optimizer=\"adam\", metrics=[\"accuracy\"])\n",
    "conv_net_model.summary()"
   ],
   "metadata": {
    "collapsed": false,
    "pycharm": {
     "name": "#%%\n"
    }
   }
  },
  {
   "cell_type": "markdown",
   "source": [
    "<img src=\"img_8.png\">"
   ],
   "metadata": {
    "collapsed": false,
    "pycharm": {
     "name": "#%% md\n"
    }
   }
  },
  {
   "cell_type": "markdown",
   "source": [
    "<img src=\"img_9.png\">"
   ],
   "metadata": {
    "collapsed": false,
    "pycharm": {
     "name": "#%% md\n"
    }
   }
  },
  {
   "cell_type": "code",
   "execution_count": null,
   "outputs": [],
   "source": [],
   "metadata": {
    "collapsed": false,
    "pycharm": {
     "name": "#%%\n"
    }
   }
  }
 ],
 "metadata": {
  "kernelspec": {
   "display_name": "Python 3",
   "language": "python",
   "name": "python3"
  },
  "language_info": {
   "codemirror_mode": {
    "name": "ipython",
    "version": 2
   },
   "file_extension": ".py",
   "mimetype": "text/x-python",
   "name": "python",
   "nbconvert_exporter": "python",
   "pygments_lexer": "ipython2",
   "version": "2.7.6"
  }
 },
 "nbformat": 4,
 "nbformat_minor": 0
}