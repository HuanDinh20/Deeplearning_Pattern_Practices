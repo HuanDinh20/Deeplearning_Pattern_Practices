{
 "cells": [
  {
   "cell_type": "markdown",
   "source": [
    "#  VGG networks\n",
    " While AlexNet (and its corresponding ConvNet design pattern) is considered the granddaddy of convolutional networks, the VGGNet (and its corresponding VGG\n",
    "design pattern) is considered the father of formalizing a design pattern based on groups of convolutions.\n",
    "\n",
    "The fundamental principles behind the VGG design pattern are as follows:\n",
    "1. Grouping multiple convolutions into blocks, with the same number of filters\n",
    "2. Progressively doubling the number of filters across blocks\n",
    "3. Delaying pooling to the end of a block\n",
    "\n",
    "When discussing a VGG design pattern in today’s context, initial confusion may arise over the terms group and block. In their research for VGGNet, the authors used the term convolutional group. Subsequently, researchers refined the grouping patterns into convolutional groups, consisting of convolutional blocks. In today’s nomenclature, the VGG group would be called a block.\n",
    "\n",
    " It is designed using a handful of principles that are easy to learn.\n",
    " 1.The convolutional frontend consists of a sequence of pairs (and later triples) of convolutions of the same size, followed by a max pooling.\n",
    " 2. The max pooling layer down-samples the generated feature maps by 75%, and\n",
    " 3. the next pair (or triple) of convolutional layers then doubles the number of learned filters.\n",
    "\n",
    "\n",
    "The principle behind the convolution design was that\n",
    "1. the early layers learn coarse features, and\n",
    "2. subsequent layers, by increasing the filters, learn finer and finer features, and\n",
    "3. the max pooling is used between the layers to minimize growth in size (and subsequently parameters to learn) of the feature maps. Finally,\n",
    "4. the DNN backend consists of two identically-sized dense hidden layers of 4096 nodes each, and a final dense output layer of 1000 nodes for classification.\n",
    "\n",
    "<img src=\"img_10.png\" >\n",
    "\n",
    "The best-known versions are the VGG16 and VGG19. The VGG16 and VGG19 that were used in the competition, along with their trained weights from the competition,\n",
    "were made publicly available. As they have been frequently used in transfer learning, others have kept the convolutional frontend of an ImageNet pretrained VGG16 or VGG19, and corresponding weights, and attached a new DNN backend for retraining for new classes of images.\n",
    "\n",
    "<img src=\"img_11.png\" width=1024>\n",
    "\n",
    "So, let’s go ahead and code a VGG16 in two coding styles: the first in a sequential flow, and the second procedurally using reuse functions for duplicating the common blocks of layers, and parameters for their specific settings. We will also change specifying kernel_size and pool_size as keyword parameters and instead specify them as positional parameters"
   ],
   "metadata": {
    "collapsed": false,
    "pycharm": {
     "name": "#%% md\n"
    }
   }
  },
  {
   "cell_type": "code",
   "execution_count": 5,
   "outputs": [],
   "source": [
    "from keras import Sequential, Model\n",
    "from keras.layers import Conv2D, MaxPooling2D, Dense, Flatten, Input"
   ],
   "metadata": {
    "collapsed": false,
    "pycharm": {
     "name": "#%%\n"
    }
   }
  },
  {
   "cell_type": "code",
   "execution_count": 3,
   "outputs": [
    {
     "name": "stdout",
     "output_type": "stream",
     "text": [
      "Model: \"sequential_1\"\n",
      "_________________________________________________________________\n",
      " Layer (type)                Output Shape              Param #   \n",
      "=================================================================\n",
      " conv2d_13 (Conv2D)          (None, 224, 224, 64)      1792      \n",
      "                                                                 \n",
      " conv2d_14 (Conv2D)          (None, 224, 224, 64)      36928     \n",
      "                                                                 \n",
      " max_pooling2d_5 (MaxPooling  (None, 112, 112, 64)     0         \n",
      " 2D)                                                             \n",
      "                                                                 \n",
      " conv2d_15 (Conv2D)          (None, 112, 112, 128)     73856     \n",
      "                                                                 \n",
      " conv2d_16 (Conv2D)          (None, 112, 112, 128)     147584    \n",
      "                                                                 \n",
      " max_pooling2d_6 (MaxPooling  (None, 56, 56, 128)      0         \n",
      " 2D)                                                             \n",
      "                                                                 \n",
      " conv2d_17 (Conv2D)          (None, 56, 56, 256)       295168    \n",
      "                                                                 \n",
      " conv2d_18 (Conv2D)          (None, 56, 56, 256)       590080    \n",
      "                                                                 \n",
      " conv2d_19 (Conv2D)          (None, 56, 56, 256)       590080    \n",
      "                                                                 \n",
      " max_pooling2d_7 (MaxPooling  (None, 28, 28, 256)      0         \n",
      " 2D)                                                             \n",
      "                                                                 \n",
      " conv2d_20 (Conv2D)          (None, 28, 28, 512)       1180160   \n",
      "                                                                 \n",
      " conv2d_21 (Conv2D)          (None, 28, 28, 512)       2359808   \n",
      "                                                                 \n",
      " conv2d_22 (Conv2D)          (None, 28, 28, 512)       2359808   \n",
      "                                                                 \n",
      " max_pooling2d_8 (MaxPooling  (None, 14, 14, 512)      0         \n",
      " 2D)                                                             \n",
      "                                                                 \n",
      " conv2d_23 (Conv2D)          (None, 14, 14, 512)       2359808   \n",
      "                                                                 \n",
      " conv2d_24 (Conv2D)          (None, 14, 14, 512)       2359808   \n",
      "                                                                 \n",
      " conv2d_25 (Conv2D)          (None, 14, 14, 512)       2359808   \n",
      "                                                                 \n",
      " max_pooling2d_9 (MaxPooling  (None, 7, 7, 512)        0         \n",
      " 2D)                                                             \n",
      "                                                                 \n",
      " flatten_1 (Flatten)         (None, 25088)             0         \n",
      "                                                                 \n",
      " dense_3 (Dense)             (None, 4096)              102764544 \n",
      "                                                                 \n",
      " dense_4 (Dense)             (None, 4096)              16781312  \n",
      "                                                                 \n",
      " dense_5 (Dense)             (None, 1000)              4097000   \n",
      "                                                                 \n",
      "=================================================================\n",
      "Total params: 138,357,544\n",
      "Trainable params: 138,357,544\n",
      "Non-trainable params: 0\n",
      "_________________________________________________________________\n"
     ]
    }
   ],
   "source": [
    "VGG16 = Sequential([\n",
    "    Conv2D(64, (3, 3), strides=(1, 1), padding=\"same\",  activation=\"relu\", input_shape=(224, 224, 3)),\n",
    "    Conv2D(64,(3, 3), strides=(1, 1), padding=\"same\",  activation=\"relu\"),\n",
    "    MaxPooling2D((2, 2), strides=(2, 2)),\n",
    "    Conv2D(128, (3, 3), strides=(1, 1), padding=\"same\",  activation=\"relu\"),\n",
    "    Conv2D(128, (3, 3), strides=(1, 1), padding=\"same\",  activation=\"relu\"),\n",
    "    MaxPooling2D((2, 2), strides=(2, 2)),\n",
    "    Conv2D(256, (3, 3), strides=(1, 1), padding=\"same\",  activation=\"relu\"),\n",
    "    Conv2D(256, (3, 3), strides=(1, 1), padding=\"same\",  activation=\"relu\"),\n",
    "    Conv2D(256, (3, 3), strides=(1, 1), padding=\"same\",  activation=\"relu\"),\n",
    "    MaxPooling2D((2, 2), strides=(2, 2)),\n",
    "    Conv2D(512, (3, 3), strides=(1, 1), padding=\"same\",  activation=\"relu\"),\n",
    "    Conv2D(512, (3, 3), strides=(1, 1), padding=\"same\",  activation=\"relu\"),\n",
    "    Conv2D(512, (3, 3), strides=(1, 1), padding=\"same\",  activation=\"relu\"),\n",
    "    MaxPooling2D((2, 2), strides=(2, 2)),\n",
    "    Conv2D(512, (3, 3), strides=(1, 1), padding=\"same\",  activation=\"relu\"),\n",
    "    Conv2D(512, (3, 3), strides=(1, 1), padding=\"same\",  activation=\"relu\"),\n",
    "    Conv2D(512, (3, 3), strides=(1, 1), padding=\"same\",  activation=\"relu\"),\n",
    "    MaxPooling2D((2, 2), strides=(2, 2)),\n",
    "    Flatten(),\n",
    "    Dense(4096,  activation='relu'),\n",
    "    Dense(4096,  activation='relu'),\n",
    "    Dense(1000,  activation='softmax')\n",
    "])\n",
    "VGG16.compile(loss=\"categorical_crossentropy\", optimizer=\"adam\", metrics=\"accuracy\")\n",
    "VGG16.summary()"
   ],
   "metadata": {
    "collapsed": false,
    "pycharm": {
     "name": "#%%\n"
    }
   }
  },
  {
   "cell_type": "code",
   "execution_count": 4,
   "outputs": [],
   "source": [
    "def conv_block(n_layers, n_filters, input_f):\n",
    "    for i in range(n_layers):\n",
    "        input_f = Conv2D(n_filters,  (3, 3), strides=(1, 1), padding=\"same\",  activation=\"relu\")(input_f)\n",
    "    input_f = MaxPooling2D(2, strides=2)(input_f)\n",
    "    return input_f"
   ],
   "metadata": {
    "collapsed": false,
    "pycharm": {
     "name": "#%%\n"
    }
   }
  },
  {
   "cell_type": "code",
   "execution_count": 6,
   "outputs": [
    {
     "name": "stdout",
     "output_type": "stream",
     "text": [
      "Model: \"model\"\n",
      "_________________________________________________________________\n",
      " Layer (type)                Output Shape              Param #   \n",
      "=================================================================\n",
      " input_1 (InputLayer)        [(None, 224, 224, 3)]     0         \n",
      "                                                                 \n",
      " conv2d_26 (Conv2D)          (None, 224, 224, 64)      1792      \n",
      "                                                                 \n",
      " conv2d_27 (Conv2D)          (None, 224, 224, 64)      36928     \n",
      "                                                                 \n",
      " max_pooling2d_10 (MaxPoolin  (None, 112, 112, 64)     0         \n",
      " g2D)                                                            \n",
      "                                                                 \n",
      " conv2d_28 (Conv2D)          (None, 112, 112, 128)     73856     \n",
      "                                                                 \n",
      " conv2d_29 (Conv2D)          (None, 112, 112, 128)     147584    \n",
      "                                                                 \n",
      " max_pooling2d_11 (MaxPoolin  (None, 56, 56, 128)      0         \n",
      " g2D)                                                            \n",
      "                                                                 \n",
      " conv2d_30 (Conv2D)          (None, 56, 56, 256)       295168    \n",
      "                                                                 \n",
      " conv2d_31 (Conv2D)          (None, 56, 56, 256)       590080    \n",
      "                                                                 \n",
      " conv2d_32 (Conv2D)          (None, 56, 56, 256)       590080    \n",
      "                                                                 \n",
      " max_pooling2d_12 (MaxPoolin  (None, 28, 28, 256)      0         \n",
      " g2D)                                                            \n",
      "                                                                 \n",
      " conv2d_33 (Conv2D)          (None, 28, 28, 512)       1180160   \n",
      "                                                                 \n",
      " conv2d_34 (Conv2D)          (None, 28, 28, 512)       2359808   \n",
      "                                                                 \n",
      " conv2d_35 (Conv2D)          (None, 28, 28, 512)       2359808   \n",
      "                                                                 \n",
      " max_pooling2d_13 (MaxPoolin  (None, 14, 14, 512)      0         \n",
      " g2D)                                                            \n",
      "                                                                 \n",
      " conv2d_36 (Conv2D)          (None, 14, 14, 512)       2359808   \n",
      "                                                                 \n",
      " conv2d_37 (Conv2D)          (None, 14, 14, 512)       2359808   \n",
      "                                                                 \n",
      " conv2d_38 (Conv2D)          (None, 14, 14, 512)       2359808   \n",
      "                                                                 \n",
      " max_pooling2d_14 (MaxPoolin  (None, 7, 7, 512)        0         \n",
      " g2D)                                                            \n",
      "                                                                 \n",
      " flatten_2 (Flatten)         (None, 25088)             0         \n",
      "                                                                 \n",
      " dense_6 (Dense)             (None, 4096)              102764544 \n",
      "                                                                 \n",
      " dense_7 (Dense)             (None, 4096)              16781312  \n",
      "                                                                 \n",
      " dense_8 (Dense)             (None, 1000)              4097000   \n",
      "                                                                 \n",
      "=================================================================\n",
      "Total params: 138,357,544\n",
      "Trainable params: 138,357,544\n",
      "Non-trainable params: 0\n",
      "_________________________________________________________________\n"
     ]
    }
   ],
   "source": [
    "vgg_input = Input((224, 224, 3))\n",
    "X = Conv2D(64,(3, 3), strides=(1, 1), padding=\"same\",  activation=\"relu\")(vgg_input)\n",
    "X = conv_block(1, 64, X)\n",
    "X = conv_block(2, 128, X)\n",
    "X = conv_block(3, 256, X)\n",
    "X = conv_block(3, 512, X)\n",
    "X = conv_block(3, 512, X)\n",
    "X = Flatten()(X)\n",
    "X = Dense(4096)(X)\n",
    "X = Dense(4096)(X)\n",
    "outputs = Dense(1000)(X)\n",
    "vgg16_model = Model(vgg_input, outputs)\n",
    "vgg16_model.summary()"
   ],
   "metadata": {
    "collapsed": false,
    "pycharm": {
     "name": "#%%\n"
    }
   }
  },
  {
   "cell_type": "markdown",
   "source": [],
   "metadata": {
    "collapsed": false,
    "pycharm": {
     "name": "#%% md\n"
    }
   }
  },
  {
   "cell_type": "code",
   "execution_count": null,
   "outputs": [],
   "source": [],
   "metadata": {
    "collapsed": false,
    "pycharm": {
     "name": "#%%\n"
    }
   }
  }
 ],
 "metadata": {
  "kernelspec": {
   "display_name": "Python 3",
   "language": "python",
   "name": "python3"
  },
  "language_info": {
   "codemirror_mode": {
    "name": "ipython",
    "version": 2
   },
   "file_extension": ".py",
   "mimetype": "text/x-python",
   "name": "python",
   "nbconvert_exporter": "python",
   "pygments_lexer": "ipython2",
   "version": "2.7.6"
  }
 },
 "nbformat": 4,
 "nbformat_minor": 0
}