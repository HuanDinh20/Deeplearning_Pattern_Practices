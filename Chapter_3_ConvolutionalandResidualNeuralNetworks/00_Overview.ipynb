{
 "cells": [
  {
   "cell_type": "markdown",
   "source": [
    "# This chapter covers\n",
    "1. Understanding the structure of convolutional neural networks\n",
    "2. Constructing a ConvNet model\n",
    "3. Designing and constructing a VGG model\n",
    "4. Designing and constructing a residual network model\n",
    "\n",
    "We cover three design patterns in this chapter, in sequence of their evolution:\n",
    "1. ConvNet\n",
    "2. VGG\n",
    "3. Residual Network\n",
    "\n",
    "\n",
    "Each of these design patterns made contributions toward today’s modern CNN designs.\n",
    "\n",
    "**ConvNet**, with AlexNet as an early example, introduced a pattern of alternating **feature\n",
    "extraction** and **dimensionality reduction** through **pooling**, and sequentially **increasing**\n",
    "the **number of filters** as we went deeper in layers.\n",
    "\n",
    "**VGG** introduced **grouping convolutions into blocks** of one or more convolutions and **delaying dimensionality reduction**\n",
    "with pooling until the end of the block.\n",
    "\n",
    "**Residual networks** introduced further grouping blocks into groups, delaying dimensionality reduction to the end of the group, and\n",
    "using feature pooling as well as pooling for the reduction, as well as the concept of\n",
    "branched paths—the identity link—for feature reuse between blocks.\n",
    "\n"
   ],
   "metadata": {
    "collapsed": false,
    "pycharm": {
     "name": "#%% md\n"
    }
   }
  },
  {
   "cell_type": "code",
   "execution_count": null,
   "outputs": [],
   "source": [],
   "metadata": {
    "collapsed": false,
    "pycharm": {
     "name": "#%%\n"
    }
   }
  }
 ],
 "metadata": {
  "kernelspec": {
   "display_name": "Python 3",
   "language": "python",
   "name": "python3"
  },
  "language_info": {
   "codemirror_mode": {
    "name": "ipython",
    "version": 2
   },
   "file_extension": ".py",
   "mimetype": "text/x-python",
   "name": "python",
   "nbconvert_exporter": "python",
   "pygments_lexer": "ipython2",
   "version": "2.7.6"
  }
 },
 "nbformat": 4,
 "nbformat_minor": 0
}