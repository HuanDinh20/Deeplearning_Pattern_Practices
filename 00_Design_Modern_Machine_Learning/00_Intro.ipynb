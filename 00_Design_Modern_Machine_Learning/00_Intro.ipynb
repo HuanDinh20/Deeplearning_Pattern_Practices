{
 "cells": [
  {
   "cell_type": "markdown",
   "source": [
    "# Designing modern machine learning\n",
    "\n",
    "**This chapter covers**\n",
    "1. Evolving from classical AI to cutting-edge approaches\n",
    "2. Applying design patterns to deep learning\n",
    "3. Introducing the procedural reuse design pattern for modeling neural networks\n",
    "\n",
    "\n",
    "`For those software engineers wanting to become machine learning engineers—what does that mean? A machine learning engineer (MLE) is an applied engineer. You don’t need to know statistics (really, you don’t!), and you don’t need to know computational theory. If you fell asleep in your college calculus class on what a derivative is, that’s OK, and if somebody asks you to do a matrix multiplication, feel free to ask, “Why?”`\n",
    "\n",
    "The latest revolution in deep learning is at the macro level rather than the micro level, with the introduction of an approach that I coined while working at Google Cloud AI as **model amalgamation**.\n",
    "\n",
    "In this approach, models are broken into **composable units** that **share and adapt** components to achieve different objectives with the same initial data.\n",
    "\n",
    "The components are interconnected in a variety of connectivity patterns, in which each component learns communication interfaces between the\n",
    "models through design, without the necessity of a backend application.\n",
    "\n",
    " In addition, model amalgamation can be used to train Internet of Things (IoT) devices for data enrichment, turning IoT sensors from static to dynamically learning devices—a technique called model fusion. Amalgamation is providing the means for putting AI into production at a scale and operational complexity not conceivable in 2017, when the push into production first started to emerge.\n",
    "\n",
    "The model amalgamation approach encourages engineers to view models as design patterns or templates that can be adapted to create individual components. So if you hope to use this approach, you’ll need to understand the designs of the key models and systems that other engineers have developed to solve problems similar to the ones you will encounter.\n",
    "\n",
    "The goal of this book is to aid you in that deep understanding by introducing you to the design patterns of seminal deep learning models, as well as the design or system architecture that puts those components together to develop, train, deploy, and serve larger deep learning systems. Even if you never work with huge enterprise amalgamations, becoming fluent in the underlying designs of these models and architectures will improve the engineering of any deep learning system you create.\n"
   ],
   "metadata": {
    "collapsed": false,
    "pycharm": {
     "name": "#%% md\n"
    }
   }
  },
  {
   "cell_type": "code",
   "execution_count": null,
   "outputs": [],
   "source": [],
   "metadata": {
    "collapsed": false,
    "pycharm": {
     "name": "#%%\n"
    }
   }
  }
 ],
 "metadata": {
  "kernelspec": {
   "display_name": "Python 3",
   "language": "python",
   "name": "python3"
  },
  "language_info": {
   "codemirror_mode": {
    "name": "ipython",
    "version": 2
   },
   "file_extension": ".py",
   "mimetype": "text/x-python",
   "name": "python",
   "nbconvert_exporter": "python",
   "pygments_lexer": "ipython2",
   "version": "2.7.6"
  }
 },
 "nbformat": 4,
 "nbformat_minor": 0
}